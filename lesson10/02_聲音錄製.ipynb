{
 "cells": [
  {
   "cell_type": "code",
   "execution_count": 1,
   "metadata": {},
   "outputs": [
    {
     "name": "stdout",
     "output_type": "stream",
     "text": [
      "Collecting pyAudio\n",
      "  Downloading PyAudio-0.2.14-cp312-cp312-win_amd64.whl.metadata (2.7 kB)\n",
      "Downloading PyAudio-0.2.14-cp312-cp312-win_amd64.whl (164 kB)\n",
      "   ---------------------------------------- 0.0/164.1 kB ? eta -:--:--\n",
      "   ----------------------------- ---------- 122.9/164.1 kB 2.4 MB/s eta 0:00:01\n",
      "   ---------------------------------------- 164.1/164.1 kB 2.5 MB/s eta 0:00:00\n",
      "Installing collected packages: pyAudio\n",
      "Successfully installed pyAudio-0.2.14\n"
     ]
    }
   ],
   "source": [
    "#!pip install pyAudio\n",
    "# pyAudio 聲音輸入輸出，pyMedia 進行Mp3的解碼和播放\n",
    "# mac 請參考:\n",
    "# https://pypi.org/project/PyAudio/"
   ]
  },
  {
   "cell_type": "code",
   "execution_count": 1,
   "metadata": {},
   "outputs": [],
   "source": [
    "import pyaudio\n",
    "import wave\n",
    "from tqdm import tqdm"
   ]
  },
  {
   "cell_type": "code",
   "execution_count": 4,
   "metadata": {},
   "outputs": [
    {
     "name": "stdout",
     "output_type": "stream",
     "text": [
      "*\n",
      "*\n",
      "*\n",
      "*\n",
      "*\n",
      "*\n",
      "*\n",
      "*\n",
      "*\n",
      "*\n",
      "*\n",
      "*\n",
      "*\n",
      "*\n",
      "*\n",
      "*\n",
      "*\n",
      "*\n",
      "*\n",
      "*\n",
      "*\n",
      "*\n",
      "*\n",
      "*\n",
      "*\n",
      "*\n",
      "*\n",
      "*\n",
      "*\n",
      "*\n",
      "*\n",
      "*\n",
      "*\n",
      "*\n",
      "*\n",
      "*\n",
      "*\n",
      "*\n",
      "*\n",
      "*\n"
     ]
    }
   ],
   "source": [
    "# 實例化一個PyAudio對象\n",
    "pa = pyaudio.PyAudio()\n",
    "# 開啟音效卡，設定 取樣深度為16位元、聲道數為1、取樣率為16、輸入、取樣點快取數量為2048\n",
    "stream = pa.open(\n",
    "    format=pyaudio.paInt16, channels=1, rate=16000, input=True, frames_per_buffer=2048\n",
    ")\n",
    "# 新建一個列表，用來儲存採樣到的數據\n",
    "record_buf = []\n",
    "count = 0\n",
    "while count < 8 * 5:\n",
    "    audio_data = stream.read(2048)  # 讀出聲卡緩衝區的音訊數據\n",
    "    record_buf.append(audio_data)  # 將讀出的音訊資料追加到record_buf列表\n",
    "    count += 1\n",
    "    print(\"*\")\n",
    "    wf = wave.open(\"01.wav\", \"wb\")  # 建立音訊文件\n",
    "    wf.setnchannels(2)  # 設定聲道數為2， 1為正常\n",
    "    wf.setsampwidth(2)  # 設定採樣深度為2， < 1 or > 4\n",
    "    wf.setframerate(16000)  # 設定取樣率為16000\n",
    "    # 將資料寫入已建立的音訊文件\n",
    "    wf.writeframes(\"\".encode().join(record_buf))\n",
    "    # 寫完後將文件關閉\n",
    "    wf.close()\n",
    "\n",
    "# 停止音效卡\n",
    "stream.stop_stream()\n",
    "# 關閉音效卡\n",
    "stream.close()\n",
    "# 終止pyaudio\n",
    "pa.terminate()"
   ]
  },
  {
   "cell_type": "markdown",
   "metadata": {},
   "source": [
    "### 聲音正常版"
   ]
  },
  {
   "cell_type": "code",
   "execution_count": 5,
   "metadata": {},
   "outputs": [
    {
     "name": "stdout",
     "output_type": "stream",
     "text": [
      "* recording\n"
     ]
    },
    {
     "name": "stderr",
     "output_type": "stream",
     "text": [
      "100%|██████████| 172/172 [00:03<00:00, 43.01it/s]"
     ]
    },
    {
     "name": "stdout",
     "output_type": "stream",
     "text": [
      "* done recording\n"
     ]
    },
    {
     "name": "stderr",
     "output_type": "stream",
     "text": [
      "\n"
     ]
    }
   ],
   "source": [
    "def record_audio(wave_out_path, record_second):\n",
    "    CHUNK = 1024\n",
    "    FORMAT = pyaudio.paInt16\n",
    "    CHANNELS = 1\n",
    "    RATE = 44100\n",
    "    p = pyaudio.PyAudio()\n",
    "    stream = p.open(\n",
    "        format=FORMAT, channels=CHANNELS, rate=RATE, input=True, frames_per_buffer=CHUNK\n",
    "    )\n",
    "    wf = wave.open(wave_out_path, \"wb\")\n",
    "    wf.setnchannels(CHANNELS)\n",
    "    wf.setsampwidth(p.get_sample_size(FORMAT))\n",
    "    wf.setframerate(RATE)\n",
    "    print(\"* recording\")\n",
    "    for i in tqdm(range(0, int(RATE / CHUNK * record_second))):\n",
    "        data = stream.read(CHUNK)\n",
    "        wf.writeframes(data)\n",
    "    print(\"* done recording\")\n",
    "    stream.stop_stream()\n",
    "    stream.close()\n",
    "    p.terminate()\n",
    "    wf.close()\n",
    "\n",
    "\n",
    "record_audio(\"02.wav\", record_second=4)"
   ]
  }
 ],
 "metadata": {
  "kernelspec": {
   "display_name": "PyIII_12",
   "language": "python",
   "name": "python3"
  },
  "language_info": {
   "codemirror_mode": {
    "name": "ipython",
    "version": 3
   },
   "file_extension": ".py",
   "mimetype": "text/x-python",
   "name": "python",
   "nbconvert_exporter": "python",
   "pygments_lexer": "ipython3",
   "version": "3.11.10"
  }
 },
 "nbformat": 4,
 "nbformat_minor": 2
}
