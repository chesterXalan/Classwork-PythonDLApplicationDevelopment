{
 "cells": [
  {
   "cell_type": "markdown",
   "id": "53995fc2",
   "metadata": {},
   "source": [
    "# Attention layer testing"
   ]
  },
  {
   "cell_type": "code",
   "execution_count": 1,
   "id": "cee088c7",
   "metadata": {},
   "outputs": [
    {
     "name": "stderr",
     "output_type": "stream",
     "text": [
      "2024-11-04 22:01:23.431524: I tensorflow/core/util/port.cc:153] oneDNN custom operations are on. You may see slightly different numerical results due to floating-point round-off errors from different computation orders. To turn them off, set the environment variable `TF_ENABLE_ONEDNN_OPTS=0`.\n",
      "2024-11-04 22:01:23.629417: E external/local_xla/xla/stream_executor/cuda/cuda_fft.cc:477] Unable to register cuFFT factory: Attempting to register factory for plugin cuFFT when one has already been registered\n",
      "WARNING: All log messages before absl::InitializeLog() is called are written to STDERR\n",
      "E0000 00:00:1730728883.705696   14417 cuda_dnn.cc:8310] Unable to register cuDNN factory: Attempting to register factory for plugin cuDNN when one has already been registered\n",
      "E0000 00:00:1730728883.727893   14417 cuda_blas.cc:1418] Unable to register cuBLAS factory: Attempting to register factory for plugin cuBLAS when one has already been registered\n",
      "2024-11-04 22:01:23.949400: I tensorflow/core/platform/cpu_feature_guard.cc:210] This TensorFlow binary is optimized to use available CPU instructions in performance-critical operations.\n",
      "To enable the following instructions: AVX2 AVX_VNNI FMA, in other operations, rebuild TensorFlow with the appropriate compiler flags.\n"
     ]
    }
   ],
   "source": [
    "import numpy as np\n",
    "import tensorflow as tf\n",
    "from tensorflow.keras.preprocessing.text import Tokenizer\n",
    "from tensorflow.keras.preprocessing.sequence import pad_sequences\n",
    "from tensorflow.keras.models import Sequential\n",
    "from tensorflow.keras.layers import Embedding, Attention\n",
    "from tensorflow import keras"
   ]
  },
  {
   "cell_type": "code",
   "execution_count": null,
   "id": "66ed93d2",
   "metadata": {},
   "outputs": [],
   "source": [
    "# Tokenizer:用來對文本中的字進行統計計數，產生文件字典，以支援基於字典位序產生文字的向量表示。 init(num_words) 建構函數，傳入字典的最大值\n",
    "# pad_sequences:將序列填充到相同的長度"
   ]
  },
  {
   "cell_type": "markdown",
   "id": "48379854",
   "metadata": {},
   "source": [
    "## 測試資料"
   ]
  },
  {
   "cell_type": "code",
   "execution_count": 2,
   "id": "7bf42b8e",
   "metadata": {},
   "outputs": [],
   "source": [
    "docs = [\"king\", \"queen\", \"table\", \"ball\", \"chair\"]"
   ]
  },
  {
   "cell_type": "markdown",
   "id": "59185f68",
   "metadata": {},
   "source": [
    "## 分詞，轉成數字"
   ]
  },
  {
   "cell_type": "code",
   "execution_count": 3,
   "id": "fff80de7",
   "metadata": {},
   "outputs": [
    {
     "name": "stdout",
     "output_type": "stream",
     "text": [
      "encoded_docs:\n",
      "[[1], [2], [3], [4], [5]]\n"
     ]
    }
   ],
   "source": [
    "t = Tokenizer()\n",
    "t.fit_on_texts(docs)  # 產生token字典，參數必須為list，每個元素為一個文件檔或句子。\n",
    "vocab_size = len(t.word_index) + 1\n",
    "# t.word_index =>{'king': 1, 'queen': 2, 'table': 3, 'ball': 4, 'chair': 5}\n",
    "\n",
    "encoded_docs = t.texts_to_sequences(docs)\n",
    "print(\"encoded_docs:\")\n",
    "print(encoded_docs)"
   ]
  },
  {
   "cell_type": "markdown",
   "id": "08a0eebd",
   "metadata": {},
   "source": [
    "## 補零"
   ]
  },
  {
   "cell_type": "code",
   "execution_count": 4,
   "id": "fb49c600",
   "metadata": {
    "scrolled": false
   },
   "outputs": [
    {
     "name": "stdout",
     "output_type": "stream",
     "text": [
      "padded_docs:\n",
      "[[1]\n",
      " [2]\n",
      " [3]\n",
      " [4]\n",
      " [5]]\n"
     ]
    }
   ],
   "source": [
    "max_length = 1\n",
    "padded_docs = pad_sequences(encoded_docs, maxlen=max_length, padding=\"post\")\n",
    "# padding:'pre'為在序列前進行拉伸或截斷，'post'是在序列最後進行拉伸或截斷\n",
    "print(\"padded_docs:\")\n",
    "print(padded_docs)"
   ]
  },
  {
   "cell_type": "markdown",
   "id": "cc3c7755",
   "metadata": {},
   "source": [
    "## 讀取 GloVe 檔案"
   ]
  },
  {
   "cell_type": "code",
   "execution_count": 5,
   "id": "bcee9b27",
   "metadata": {},
   "outputs": [
    {
     "name": "stdout",
     "output_type": "stream",
     "text": [
      "Loaded 400000 word vectors.\n"
     ]
    }
   ],
   "source": [
    "# load the whole embedding into memory\n",
    "embeddings_index = dict()\n",
    "f = open(\"./glove/glove.6B.100d.txt\", encoding=\"utf-8\")\n",
    "for line in f:\n",
    "    values = line.split()\n",
    "    word = values[0]\n",
    "    coefs = np.asarray(values[1:], dtype=\"float32\")\n",
    "    embeddings_index[word] = coefs\n",
    "f.close()\n",
    "print(\"Loaded %s word vectors.\" % len(embeddings_index))"
   ]
  },
  {
   "cell_type": "markdown",
   "id": "3d63486e",
   "metadata": {},
   "source": [
    "## 轉為 GloVe 向量"
   ]
  },
  {
   "cell_type": "code",
   "execution_count": 6,
   "id": "bbf002f6",
   "metadata": {},
   "outputs": [],
   "source": [
    "embedding_matrix = np.zeros((vocab_size, 100))\n",
    "for word, i in t.word_index.items():\n",
    "    embedding_vector = embeddings_index.get(word)\n",
    "    if embedding_vector is not None:\n",
    "        embedding_matrix[i] = embedding_vector"
   ]
  },
  {
   "cell_type": "markdown",
   "id": "b7b42303",
   "metadata": {},
   "source": [
    "## 建立模型"
   ]
  },
  {
   "cell_type": "code",
   "execution_count": 8,
   "id": "547ab1e2",
   "metadata": {},
   "outputs": [
    {
     "data": {
      "text/html": [
       "<pre style=\"white-space:pre;overflow-x:auto;line-height:normal;font-family:Menlo,'DejaVu Sans Mono',consolas,'Courier New',monospace\"><span style=\"font-weight: bold\">Model: \"functional_1\"</span>\n",
       "</pre>\n"
      ],
      "text/plain": [
       "\u001b[1mModel: \"functional_1\"\u001b[0m\n"
      ]
     },
     "metadata": {},
     "output_type": "display_data"
    },
    {
     "data": {
      "text/html": [
       "<pre style=\"white-space:pre;overflow-x:auto;line-height:normal;font-family:Menlo,'DejaVu Sans Mono',consolas,'Courier New',monospace\">┏━━━━━━━━━━━━━━━━━━━━━┳━━━━━━━━━━━━━━━━━━━┳━━━━━━━━━━━━┳━━━━━━━━━━━━━━━━━━━┓\n",
       "┃<span style=\"font-weight: bold\"> Layer (type)        </span>┃<span style=\"font-weight: bold\"> Output Shape      </span>┃<span style=\"font-weight: bold\">    Param # </span>┃<span style=\"font-weight: bold\"> Connected to      </span>┃\n",
       "┡━━━━━━━━━━━━━━━━━━━━━╇━━━━━━━━━━━━━━━━━━━╇━━━━━━━━━━━━╇━━━━━━━━━━━━━━━━━━━┩\n",
       "│ input_layer_2       │ (<span style=\"color: #00d7ff; text-decoration-color: #00d7ff\">None</span>, <span style=\"color: #00d7ff; text-decoration-color: #00d7ff\">None</span>)      │          <span style=\"color: #00af00; text-decoration-color: #00af00\">0</span> │ -                 │\n",
       "│ (<span style=\"color: #0087ff; text-decoration-color: #0087ff\">InputLayer</span>)        │                   │            │                   │\n",
       "├─────────────────────┼───────────────────┼────────────┼───────────────────┤\n",
       "│ input_layer_3       │ (<span style=\"color: #00d7ff; text-decoration-color: #00d7ff\">None</span>, <span style=\"color: #00d7ff; text-decoration-color: #00d7ff\">None</span>)      │          <span style=\"color: #00af00; text-decoration-color: #00af00\">0</span> │ -                 │\n",
       "│ (<span style=\"color: #0087ff; text-decoration-color: #0087ff\">InputLayer</span>)        │                   │            │                   │\n",
       "├─────────────────────┼───────────────────┼────────────┼───────────────────┤\n",
       "│ embedding_1         │ (<span style=\"color: #00d7ff; text-decoration-color: #00d7ff\">None</span>, <span style=\"color: #00d7ff; text-decoration-color: #00d7ff\">None</span>, <span style=\"color: #00af00; text-decoration-color: #00af00\">100</span>) │        <span style=\"color: #00af00; text-decoration-color: #00af00\">600</span> │ input_layer_2[<span style=\"color: #00af00; text-decoration-color: #00af00\">0</span>]… │\n",
       "│ (<span style=\"color: #0087ff; text-decoration-color: #0087ff\">Embedding</span>)         │                   │            │ input_layer_3[<span style=\"color: #00af00; text-decoration-color: #00af00\">0</span>]… │\n",
       "├─────────────────────┼───────────────────┼────────────┼───────────────────┤\n",
       "│ attention_1         │ (<span style=\"color: #00d7ff; text-decoration-color: #00d7ff\">None</span>, <span style=\"color: #00d7ff; text-decoration-color: #00d7ff\">None</span>, <span style=\"color: #00af00; text-decoration-color: #00af00\">100</span>) │          <span style=\"color: #00af00; text-decoration-color: #00af00\">0</span> │ embedding_1[<span style=\"color: #00af00; text-decoration-color: #00af00\">0</span>][<span style=\"color: #00af00; text-decoration-color: #00af00\">0</span>… │\n",
       "│ (<span style=\"color: #0087ff; text-decoration-color: #0087ff\">Attention</span>)         │                   │            │ embedding_1[<span style=\"color: #00af00; text-decoration-color: #00af00\">1</span>][<span style=\"color: #00af00; text-decoration-color: #00af00\">0</span>] │\n",
       "└─────────────────────┴───────────────────┴────────────┴───────────────────┘\n",
       "</pre>\n"
      ],
      "text/plain": [
       "┏━━━━━━━━━━━━━━━━━━━━━┳━━━━━━━━━━━━━━━━━━━┳━━━━━━━━━━━━┳━━━━━━━━━━━━━━━━━━━┓\n",
       "┃\u001b[1m \u001b[0m\u001b[1mLayer (type)       \u001b[0m\u001b[1m \u001b[0m┃\u001b[1m \u001b[0m\u001b[1mOutput Shape     \u001b[0m\u001b[1m \u001b[0m┃\u001b[1m \u001b[0m\u001b[1m   Param #\u001b[0m\u001b[1m \u001b[0m┃\u001b[1m \u001b[0m\u001b[1mConnected to     \u001b[0m\u001b[1m \u001b[0m┃\n",
       "┡━━━━━━━━━━━━━━━━━━━━━╇━━━━━━━━━━━━━━━━━━━╇━━━━━━━━━━━━╇━━━━━━━━━━━━━━━━━━━┩\n",
       "│ input_layer_2       │ (\u001b[38;5;45mNone\u001b[0m, \u001b[38;5;45mNone\u001b[0m)      │          \u001b[38;5;34m0\u001b[0m │ -                 │\n",
       "│ (\u001b[38;5;33mInputLayer\u001b[0m)        │                   │            │                   │\n",
       "├─────────────────────┼───────────────────┼────────────┼───────────────────┤\n",
       "│ input_layer_3       │ (\u001b[38;5;45mNone\u001b[0m, \u001b[38;5;45mNone\u001b[0m)      │          \u001b[38;5;34m0\u001b[0m │ -                 │\n",
       "│ (\u001b[38;5;33mInputLayer\u001b[0m)        │                   │            │                   │\n",
       "├─────────────────────┼───────────────────┼────────────┼───────────────────┤\n",
       "│ embedding_1         │ (\u001b[38;5;45mNone\u001b[0m, \u001b[38;5;45mNone\u001b[0m, \u001b[38;5;34m100\u001b[0m) │        \u001b[38;5;34m600\u001b[0m │ input_layer_2[\u001b[38;5;34m0\u001b[0m]… │\n",
       "│ (\u001b[38;5;33mEmbedding\u001b[0m)         │                   │            │ input_layer_3[\u001b[38;5;34m0\u001b[0m]… │\n",
       "├─────────────────────┼───────────────────┼────────────┼───────────────────┤\n",
       "│ attention_1         │ (\u001b[38;5;45mNone\u001b[0m, \u001b[38;5;45mNone\u001b[0m, \u001b[38;5;34m100\u001b[0m) │          \u001b[38;5;34m0\u001b[0m │ embedding_1[\u001b[38;5;34m0\u001b[0m][\u001b[38;5;34m0\u001b[0m… │\n",
       "│ (\u001b[38;5;33mAttention\u001b[0m)         │                   │            │ embedding_1[\u001b[38;5;34m1\u001b[0m][\u001b[38;5;34m0\u001b[0m] │\n",
       "└─────────────────────┴───────────────────┴────────────┴───────────────────┘\n"
      ]
     },
     "metadata": {},
     "output_type": "display_data"
    },
    {
     "data": {
      "text/html": [
       "<pre style=\"white-space:pre;overflow-x:auto;line-height:normal;font-family:Menlo,'DejaVu Sans Mono',consolas,'Courier New',monospace\"><span style=\"font-weight: bold\"> Total params: </span><span style=\"color: #00af00; text-decoration-color: #00af00\">600</span> (2.34 KB)\n",
       "</pre>\n"
      ],
      "text/plain": [
       "\u001b[1m Total params: \u001b[0m\u001b[38;5;34m600\u001b[0m (2.34 KB)\n"
      ]
     },
     "metadata": {},
     "output_type": "display_data"
    },
    {
     "data": {
      "text/html": [
       "<pre style=\"white-space:pre;overflow-x:auto;line-height:normal;font-family:Menlo,'DejaVu Sans Mono',consolas,'Courier New',monospace\"><span style=\"font-weight: bold\"> Trainable params: </span><span style=\"color: #00af00; text-decoration-color: #00af00\">600</span> (2.34 KB)\n",
       "</pre>\n"
      ],
      "text/plain": [
       "\u001b[1m Trainable params: \u001b[0m\u001b[38;5;34m600\u001b[0m (2.34 KB)\n"
      ]
     },
     "metadata": {},
     "output_type": "display_data"
    },
    {
     "data": {
      "text/html": [
       "<pre style=\"white-space:pre;overflow-x:auto;line-height:normal;font-family:Menlo,'DejaVu Sans Mono',consolas,'Courier New',monospace\"><span style=\"font-weight: bold\"> Non-trainable params: </span><span style=\"color: #00af00; text-decoration-color: #00af00\">0</span> (0.00 B)\n",
       "</pre>\n"
      ],
      "text/plain": [
       "\u001b[1m Non-trainable params: \u001b[0m\u001b[38;5;34m0\u001b[0m (0.00 B)\n"
      ]
     },
     "metadata": {},
     "output_type": "display_data"
    }
   ],
   "source": [
    "query_input = tf.keras.Input(shape=(None,), dtype=\"int32\")\n",
    "value_input = tf.keras.Input(shape=(None,), dtype=\"int32\")\n",
    "\n",
    "# Embedding lookup.\n",
    "token_embedding = Embedding(vocab_size, 100, weights=[embedding_matrix])\n",
    "# Query embeddings of shape [batch_size, Tq, dimension].\n",
    "query_embeddings = token_embedding(query_input)\n",
    "# Value embeddings of shape [batch_size, Tv, dimension].\n",
    "value_embeddings = token_embedding(value_input)\n",
    "\n",
    "# Query-value attention of shape [batch_size, Tq, filters].\n",
    "query_value_attention_seq = tf.keras.layers.Attention()(\n",
    "    [query_embeddings, value_embeddings]\n",
    ")\n",
    "\n",
    "model = keras.Model(\n",
    "    inputs=[query_input, value_input], outputs=query_value_attention_seq\n",
    ")\n",
    "model.compile(optimizer=\"adam\", loss=\"mse\")\n",
    "model.summary()"
   ]
  },
  {
   "cell_type": "markdown",
   "id": "d50ba88a",
   "metadata": {},
   "source": [
    "## 模型預測"
   ]
  },
  {
   "cell_type": "code",
   "execution_count": 9,
   "id": "c4ed51da",
   "metadata": {
    "scrolled": false
   },
   "outputs": [
    {
     "name": "stderr",
     "output_type": "stream",
     "text": [
      "/home/chesterxalan/github/Classwork/Classwork-PythonDLApplicationDevelopment/.venv/lib/python3.11/site-packages/keras/src/ops/nn.py:545: UserWarning: You are using a softmax over axis -1 of a tensor of shape (5, 1, 1). This axis has size 1. The softmax operation will always return the value 1, which is likely not what you intended. Did you mean to use a sigmoid instead?\n",
      "  warnings.warn(\n"
     ]
    },
    {
     "data": {
      "text/plain": [
       "<tf.Tensor: shape=(5, 1, 100), dtype=float32, numpy=\n",
       "array([[[-0.32307  , -0.87616  ,  0.21977  ,  0.25268  ,  0.22976  ,\n",
       "          0.7388   , -0.37954  , -0.35307  , -0.84369  , -1.1113   ,\n",
       "         -0.30266  ,  0.33178  , -0.25113  ,  0.30448  , -0.077491 ,\n",
       "         -0.89815  ,  0.092496 , -1.1407   , -0.58324  ,  0.66869  ,\n",
       "         -0.23122  , -0.95855  ,  0.28262  , -0.078848 ,  0.75315  ,\n",
       "          0.26584  ,  0.3422   , -0.33949  ,  0.95608  ,  0.065641 ,\n",
       "          0.45747  ,  0.39835  ,  0.57965  ,  0.39267  , -0.21851  ,\n",
       "          0.58795  , -0.55999  ,  0.63368  , -0.043983 , -0.68731  ,\n",
       "         -0.37841  ,  0.38026  ,  0.61641  , -0.88269  , -0.12346  ,\n",
       "         -0.37928  , -0.38318  ,  0.23868  ,  0.6685   , -0.43321  ,\n",
       "         -0.11065  ,  0.081723 ,  1.1569   ,  0.78958  , -0.21223  ,\n",
       "         -2.3211   , -0.67806  ,  0.44561  ,  0.65707  ,  0.1045   ,\n",
       "          0.46217  ,  0.19912  ,  0.25802  ,  0.057194 ,  0.53443  ,\n",
       "         -0.43133  , -0.34311  ,  0.59789  , -0.58417  ,  0.068995 ,\n",
       "          0.23944  , -0.85181  ,  0.30379  , -0.34177  , -0.25746  ,\n",
       "         -0.031101 , -0.16285  ,  0.45169  , -0.91627  ,  0.64521  ,\n",
       "          0.73281  , -0.22752  ,  0.30226  ,  0.044801 , -0.83741  ,\n",
       "          0.55006  , -0.52506  , -1.7357   ,  0.4751   , -0.70487  ,\n",
       "          0.056939 , -0.7132   ,  0.089623 ,  0.41394  , -1.3363   ,\n",
       "         -0.61915  , -0.33089  , -0.52881  ,  0.16483  , -0.98878  ]],\n",
       "\n",
       "       [[-0.50045  , -0.70826  ,  0.55388  ,  0.673    ,  0.22486  ,\n",
       "          0.60281  , -0.26194  ,  0.73872  , -0.65383  , -0.21606  ,\n",
       "         -0.33806  ,  0.24498  , -0.51497  ,  0.8568   , -0.37199  ,\n",
       "         -0.58824  ,  0.30637  , -0.30668  , -0.2187   ,  0.78369  ,\n",
       "         -0.61944  , -0.54925  ,  0.43067  , -0.027348 ,  0.97574  ,\n",
       "          0.46169  ,  0.11486  , -0.99842  ,  1.0661   , -0.20819  ,\n",
       "          0.53158  ,  0.40922  ,  1.0406   ,  0.24943  ,  0.18709  ,\n",
       "          0.41528  , -0.95408  ,  0.36822  , -0.37948  , -0.6802   ,\n",
       "         -0.14578  , -0.20113  ,  0.17113  , -0.55705  ,  0.7191   ,\n",
       "          0.070014 , -0.23637  ,  0.49534  ,  1.1576   , -0.05078  ,\n",
       "          0.25731  , -0.091052 ,  1.2663   ,  1.1047   , -0.51584  ,\n",
       "         -2.0033   , -0.64821  ,  0.16417  ,  0.32935  ,  0.048484 ,\n",
       "          0.18997  ,  0.66116  ,  0.080882 ,  0.3364   ,  0.22758  ,\n",
       "          0.1462   , -0.51005  ,  0.63777  ,  0.47299  , -0.3282   ,\n",
       "          0.083899 , -0.78547  ,  0.099148 ,  0.039176 ,  0.27893  ,\n",
       "          0.11747  ,  0.57862  ,  0.043639 , -0.15965  , -0.35304  ,\n",
       "         -0.048965 , -0.32461  ,  1.4981   ,  0.58138  , -1.132    ,\n",
       "         -0.60673  , -0.37505  , -1.1813   ,  0.80117  , -0.50014  ,\n",
       "         -0.16574  , -0.70584  ,  0.43012  ,  0.51051  , -0.8033   ,\n",
       "         -0.66572  , -0.63717  , -0.36032  ,  0.13347  , -0.56075  ]],\n",
       "\n",
       "       [[-0.61454  ,  0.89693  ,  0.56771  ,  0.39102  , -0.22437  ,\n",
       "          0.49035  ,  0.10868  ,  0.27411  , -0.23833  , -0.52153  ,\n",
       "          0.73551  , -0.32654  ,  0.51304  ,  0.32415  , -0.46709  ,\n",
       "          0.68051  , -0.25497  , -0.040484 , -0.54418  , -1.0548   ,\n",
       "         -0.46692  ,  0.23557  ,  0.31234  , -0.34537  ,  0.14793  ,\n",
       "         -0.53745  , -0.43215  , -0.48724  , -0.51019  , -0.9051   ,\n",
       "         -0.17919  , -0.018376 ,  0.09719  , -0.31623  ,  0.7512   ,\n",
       "          0.92236  , -0.49965  ,  0.14036  , -0.28296  , -0.97443  ,\n",
       "         -0.0094408, -0.62944  ,  0.14711  , -0.94376  ,  0.0075222,\n",
       "          0.18565  , -0.99172  ,  0.072789 , -0.18474  , -0.52901  ,\n",
       "          0.38995  , -0.45677  , -0.21932  ,  1.3723   , -0.29636  ,\n",
       "         -2.2342   , -0.36667  ,  0.04987  ,  0.63421  ,  0.53275  ,\n",
       "         -0.53955  ,  0.31398  , -0.44698  , -0.38389  ,  0.066668 ,\n",
       "         -0.02168  ,  0.20558  ,  0.59456  , -0.24892  , -0.52795  ,\n",
       "         -0.3761   ,  0.077104 ,  0.75222  , -0.2647   , -0.0587   ,\n",
       "          0.67541  , -0.16559  , -0.49278  , -0.26327  , -0.21215  ,\n",
       "          0.24317  ,  0.17006  , -0.2926   , -0.5009   , -0.56638  ,\n",
       "         -0.40377  , -0.48452  , -0.32539  ,  0.75293  ,  0.0049585,\n",
       "         -0.32115  ,  0.28899  , -0.042392 ,  0.63863  , -0.20332  ,\n",
       "         -0.46785  , -0.15661  ,  0.2179   ,  1.4143   ,  0.40034  ]],\n",
       "\n",
       "       [[-0.036567 , -0.18558  ,  0.13057  , -0.63719  , -0.55936  ,\n",
       "          0.78075  ,  0.53554  , -0.22613  , -1.2488   , -0.35013  ,\n",
       "          0.52236  , -0.16612  , -0.11397  ,  0.1271   ,  0.72191  ,\n",
       "          0.37857  , -0.092738 ,  1.2043   , -0.17302  , -0.32004  ,\n",
       "          0.34321  ,  0.73466  ,  0.34433  , -0.53071  ,  0.90015  ,\n",
       "          0.83083  , -1.1138   , -0.48986  ,  0.23565  , -0.21458  ,\n",
       "         -0.53922  ,  0.81008  ,  0.50326  ,  0.24724  ,  0.60604  ,\n",
       "         -0.22896  , -0.92412  ,  0.55099  , -0.8106   ,  0.1278   ,\n",
       "         -0.28405  , -0.50333  ,  0.12974  , -0.33723  , -0.33747  ,\n",
       "         -0.019797 ,  0.0221   ,  0.13256  ,  0.14191  , -0.31389  ,\n",
       "         -0.15018  ,  0.92542  , -0.51688  ,  1.0184   , -0.28669  ,\n",
       "         -2.3216   , -0.97029  ,  0.68598  ,  1.5344   ,  0.55211  ,\n",
       "          0.067893 ,  0.89365  , -0.58541  ,  1.049    , -0.44327  ,\n",
       "         -0.43402  ,  0.91534  ,  0.013383 , -0.66637  , -0.054184 ,\n",
       "         -0.26239  ,  0.046368 ,  1.0588   , -0.65413  ,  0.75418  ,\n",
       "         -0.36283  , -0.73356  ,  0.010898 ,  0.48218  ,  0.80575  ,\n",
       "          0.38829  ,  0.53814  , -0.74129  , -1.0993   , -0.94843  ,\n",
       "         -0.87877  ,  0.36276  , -0.23945  ,  0.16491  , -0.3878   ,\n",
       "         -0.46579  ,  0.081828 , -0.57055  , -0.12194  , -0.18757  ,\n",
       "         -0.28406  ,  0.1892   ,  0.55081  ,  0.076665 , -0.10043  ]],\n",
       "\n",
       "       [[ 0.0065461,  0.37421  ,  0.10797  , -0.082747 ,  0.64901  ,\n",
       "          0.30169  , -0.073074 ,  0.93806  , -0.63044  , -0.51392  ,\n",
       "         -0.37892  , -0.58334  ,  0.35183  ,  1.1785   ,  0.030233 ,\n",
       "         -0.10038  , -0.26562  ,  0.23061  , -0.39409  , -1.2905   ,\n",
       "         -0.48042  ,  0.24882  ,  0.32405  , -0.60272  ,  0.70835  ,\n",
       "         -0.29148  , -0.52192  , -0.68477  ,  0.32833  ,  0.1365   ,\n",
       "         -0.1287   ,  0.54085  , -0.17068  ,  0.20286  , -0.78958  ,\n",
       "          0.50968  , -0.64833  ,  0.46491  ,  0.50427  , -0.15785  ,\n",
       "         -0.54493  , -0.35393  ,  0.66042  , -0.71844  , -0.48376  ,\n",
       "          0.49241  , -0.60408  ,  0.53023  , -0.89401  , -0.39691  ,\n",
       "         -0.61351  , -0.46707  , -0.018895 ,  0.50907  , -0.10905  ,\n",
       "         -2.0831   ,  0.33063  ,  0.3548   ,  0.98301  ,  0.080053 ,\n",
       "          0.12678  , -0.061691 , -0.039855 ,  0.33585  ,  0.13318  ,\n",
       "         -0.35239  ,  0.43726  ,  0.84516  ,  0.21468  ,  0.30733  ,\n",
       "          0.76884  ,  0.44288  ,  0.74522  , -0.26943  , -0.6214   ,\n",
       "         -0.13356  , -0.53495  ,  0.096564 ,  0.26305  , -0.49739  ,\n",
       "         -0.45149  , -0.1694   ,  0.11016  , -0.31119  , -0.32883  ,\n",
       "         -0.39835  ,  0.34864  , -0.24336  ,  0.33879  , -0.91043  ,\n",
       "          0.6816   , -0.62344  ,  0.90965  ,  0.76285  ,  0.75305  ,\n",
       "          0.48748  ,  0.0452   ,  0.15256  ,  1.1562   , -0.19654  ]]],\n",
       "      dtype=float32)>"
      ]
     },
     "execution_count": 9,
     "metadata": {},
     "output_type": "execute_result"
    }
   ],
   "source": [
    "result = model([padded_docs, padded_docs])\n",
    "result"
   ]
  },
  {
   "cell_type": "markdown",
   "id": "8b7e201a",
   "metadata": {},
   "source": [
    "## 結果轉換為NumPy array"
   ]
  },
  {
   "cell_type": "code",
   "execution_count": 10,
   "id": "c47a8830",
   "metadata": {},
   "outputs": [],
   "source": [
    "result = result.numpy().reshape(len(docs), -1)"
   ]
  },
  {
   "cell_type": "markdown",
   "id": "958a27ab",
   "metadata": {},
   "source": [
    "## 相似度計算"
   ]
  },
  {
   "cell_type": "code",
   "execution_count": 11,
   "id": "b05bc37b",
   "metadata": {},
   "outputs": [
    {
     "data": {
      "text/plain": [
       "array([[0.750769  , 0.29662594, 0.28252047, 0.3039691 ]], dtype=float32)"
      ]
     },
     "execution_count": 11,
     "metadata": {},
     "output_type": "execute_result"
    }
   ],
   "source": [
    "from sklearn.metrics.pairwise import cosine_similarity\n",
    "\n",
    "# king vs. ['queen', 'table', 'ball', 'chair']\n",
    "cosine_similarity(result[0:1], result[1:])"
   ]
  },
  {
   "cell_type": "code",
   "execution_count": 12,
   "id": "e71dacda",
   "metadata": {},
   "outputs": [
    {
     "data": {
      "text/plain": [
       "array([[0.3039691 , 0.3016673 , 0.49246815, 0.35501537]], dtype=float32)"
      ]
     },
     "execution_count": 12,
     "metadata": {},
     "output_type": "execute_result"
    }
   ],
   "source": [
    "# chair vs. ['king', 'queen', 'table', 'ball']\n",
    "cosine_similarity(result[-1:], result[0:-1])"
   ]
  },
  {
   "cell_type": "code",
   "execution_count": null,
   "id": "fb7fce01",
   "metadata": {},
   "outputs": [],
   "source": []
  }
 ],
 "metadata": {
  "kernelspec": {
   "display_name": ".venv",
   "language": "python",
   "name": "python3"
  },
  "language_info": {
   "codemirror_mode": {
    "name": "ipython",
    "version": 3
   },
   "file_extension": ".py",
   "mimetype": "text/x-python",
   "name": "python",
   "nbconvert_exporter": "python",
   "pygments_lexer": "ipython3",
   "version": "3.12.3"
  }
 },
 "nbformat": 4,
 "nbformat_minor": 5
}
