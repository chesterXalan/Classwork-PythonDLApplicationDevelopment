{
 "cells": [
  {
   "cell_type": "markdown",
   "metadata": {},
   "source": [
    "# [CKIP Transformers](https://ckip-transformers.readthedocs.io/en/latest/main/readme.html#)"
   ]
  },
  {
   "cell_type": "markdown",
   "metadata": {},
   "source": [
    "## 載入相關套件"
   ]
  },
  {
   "cell_type": "code",
   "execution_count": null,
   "metadata": {},
   "outputs": [],
   "source": [
    "#!pip install -U ckip-transformers"
   ]
  },
  {
   "cell_type": "code",
   "execution_count": 1,
   "metadata": {},
   "outputs": [],
   "source": [
    "from ckip_transformers import __version__\n",
    "from ckip_transformers.nlp import CkipWordSegmenter, CkipPosTagger, CkipNerChunker\n",
    "import torch"
   ]
  },
  {
   "cell_type": "markdown",
   "metadata": {},
   "source": [
    "## 載入模型"
   ]
  },
  {
   "cell_type": "code",
   "execution_count": 2,
   "metadata": {},
   "outputs": [
    {
     "name": "stderr",
     "output_type": "stream",
     "text": [
      "2024-11-04 23:42:24.768040: I tensorflow/core/util/port.cc:153] oneDNN custom operations are on. You may see slightly different numerical results due to floating-point round-off errors from different computation orders. To turn them off, set the environment variable `TF_ENABLE_ONEDNN_OPTS=0`.\n",
      "2024-11-04 23:42:24.778433: E external/local_xla/xla/stream_executor/cuda/cuda_fft.cc:477] Unable to register cuFFT factory: Attempting to register factory for plugin cuFFT when one has already been registered\n",
      "WARNING: All log messages before absl::InitializeLog() is called are written to STDERR\n",
      "E0000 00:00:1730734944.790746   36126 cuda_dnn.cc:8310] Unable to register cuDNN factory: Attempting to register factory for plugin cuDNN when one has already been registered\n",
      "E0000 00:00:1730734944.794576   36126 cuda_blas.cc:1418] Unable to register cuBLAS factory: Attempting to register factory for plugin cuBLAS when one has already been registered\n",
      "2024-11-04 23:42:24.808199: I tensorflow/core/platform/cpu_feature_guard.cc:210] This TensorFlow binary is optimized to use available CPU instructions in performance-critical operations.\n",
      "To enable the following instructions: AVX2 AVX_VNNI FMA, in other operations, rebuild TensorFlow with the appropriate compiler flags.\n",
      "/home/chesterxalan/github/Classwork/Classwork-PythonDLApplicationDevelopment/.venv/lib/python3.11/site-packages/torch/_utils.py:831: UserWarning: TypedStorage is deprecated. It will be removed in the future and UntypedStorage will be the only storage class. This should only matter to you if you are using storages directly.  To access UntypedStorage directly, use tensor.untyped_storage() instead of tensor.storage()\n",
      "  return self.fget.__get__(instance, owner)()\n"
     ]
    },
    {
     "data": {
      "application/vnd.jupyter.widget-view+json": {
       "model_id": "9b4fbba3927b42a8b5d815e871740b39",
       "version_major": 2,
       "version_minor": 0
      },
      "text/plain": [
       "model.safetensors:   0%|          | 0.00/407M [00:00<?, ?B/s]"
      ]
     },
     "metadata": {},
     "output_type": "display_data"
    },
    {
     "data": {
      "application/vnd.jupyter.widget-view+json": {
       "model_id": "c29906bae45d4c3193bd6e53f81e2965",
       "version_major": 2,
       "version_minor": 0
      },
      "text/plain": [
       "model.safetensors:   0%|          | 0.00/407M [00:00<?, ?B/s]"
      ]
     },
     "metadata": {},
     "output_type": "display_data"
    }
   ],
   "source": [
    "# 指定 device 以使用 GPU，設為 -1 （預設值）代表不使用 GPU\n",
    "device = 0 if torch.cuda.is_available() else -1\n",
    "\n",
    "ws_driver = CkipWordSegmenter(device=device)  # 分詞level=3,\n",
    "pos_driver = CkipPosTagger(device=device)  # 詞性標記(POS)level=3,\n",
    "ner_driver = CkipNerChunker(device=device)  # 命名實體識別(NER)level=3,"
   ]
  },
  {
   "cell_type": "markdown",
   "metadata": {},
   "source": [
    "## 測試"
   ]
  },
  {
   "cell_type": "code",
   "execution_count": 3,
   "metadata": {},
   "outputs": [
    {
     "name": "stderr",
     "output_type": "stream",
     "text": [
      "Tokenization: 100%|██████████| 2/2 [00:00<00:00, 334.23it/s]\n",
      "Inference: 100%|██████████| 1/1 [00:00<00:00,  3.82it/s]\n",
      "Tokenization: 100%|██████████| 2/2 [00:00<00:00, 6786.90it/s]\n",
      "Inference: 100%|██████████| 1/1 [00:00<00:00, 56.80it/s]\n",
      "Tokenization: 100%|██████████| 2/2 [00:00<00:00, 3350.08it/s]\n",
      "Inference: 100%|██████████| 1/1 [00:00<00:00, 41.72it/s]\n"
     ]
    }
   ],
   "source": [
    "text = [\n",
    "    \"\"\"\n",
    "便利商店除了提供微波食品，也有販賣烤地瓜。一位網友近日在社群網站分享，\n",
    "針對自己在3家超商食用烤地瓜後的看法，並以「甜度」作為評價標準，這則PO文引起許多網友討論。\n",
    "\"\"\",\n",
    "    \"\"\"\n",
    "從俄羅斯2月24日入侵烏克蘭以來，到今日（4月5日）已有41天，\n",
    "烏克蘭澤倫斯基仍在烏克蘭境內領導軍民抵抗俄國侵略。澤倫斯基4日前往被俄軍大肆屠戮的城鎮布查\n",
    "，面色凝重地視察當地狀況，澤倫斯基的面貌也和俄國剛入侵時大有不同。\"\"\",\n",
    "]\n",
    "\n",
    "ws = ws_driver(text)\n",
    "pos = pos_driver(ws)\n",
    "ner = ner_driver(text)"
   ]
  },
  {
   "cell_type": "code",
   "execution_count": 4,
   "metadata": {
    "scrolled": false
   },
   "outputs": [
    {
     "name": "stdout",
     "output_type": "stream",
     "text": [
      "\n",
      "便利商店除了提供微波食品，也有販賣烤地瓜。一位網友近日在社群網站分享，\n",
      "針對自己在3家超商食用烤地瓜後的看法，並以「甜度」作為評價標準，這則PO文引起許多網友討論。\n",
      "\n",
      "\n",
      "(WHITESPACE)  便利商店(Nc)  除了(P)  提供(VD)  微波(Na)  食品(Na)  ，(COMMACATEGORY)  也(D)  有(V_2)  販賣(VD)  烤(VC)  地瓜(Na)  。(PERIODCATEGORY)  一(Neu)  位(Nf)  網友(Na)  近日(Nd)  在(P)  社群(Na)  網站(Nc)  分享(VJ)  ，(COMMACATEGORY)  \n",
      "(WHITESPACE)  針對(P)  自己(Nh)  在(P)  3(Neu)  家(Nf)  超商(Nc)  食用(VC)  烤(VC)  地瓜(Na)  後(Ng)  的(DE)  看法(Na)  ，(COMMACATEGORY)  並(Cbb)  以(P)  「(PARENTHESISCATEGORY)  甜度(Na)  」(PARENTHESISCATEGORY)  作為(VG)  評價(Na)  標準(Na)  ，(COMMACATEGORY)  這(Nep)  則(Nf)  PO文(FW)  引起(VC)  許多(Neqa)  網友(Na)  討論(VE)  。(PERIODCATEGORY)  \n",
      "(WHITESPACE)\n",
      "NerToken(word='一', ner='CARDINAL', idx=(22, 23))\n",
      "NerToken(word='3', ner='CARDINAL', idx=(42, 43))\n",
      "\n",
      "\n",
      "從俄羅斯2月24日入侵烏克蘭以來，到今日（4月5日）已有41天，\n",
      "烏克蘭澤倫斯基仍在烏克蘭境內領導軍民抵抗俄國侵略。澤倫斯基4日前往被俄軍大肆屠戮的城鎮布查\n",
      "，面色凝重地視察當地狀況，澤倫斯基的面貌也和俄國剛入侵時大有不同。\n",
      "\n",
      "(WHITESPACE)  從(P)  俄羅斯(Nc)  2月(Nd)  24日(Nd)  入侵(VCL)  烏克蘭(Nc)  以來(Ng)  ，(COMMACATEGORY)  到(P)  今日(Nd)  （(PARENTHESISCATEGORY)  4月(Nd)  5日(Nd)  ）(PARENTHESISCATEGORY)  已(D)  有(V_2)  41(Neu)  天(Nf)  ，(COMMACATEGORY)  \n",
      "(WHITESPACE)  烏克蘭(Nc)  澤倫斯基(Nb)  仍(D)  在(P)  烏克蘭(Nc)  境(Na)  內(Ncd)  領導(VC)  軍民(Na)  抵抗(VC)  俄國(Nc)  侵略(VC)  。(PERIODCATEGORY)  澤倫斯基(Nb)  4日(Nd)  前往(VCL)  被(P)  俄軍(Na)  大肆(D)  屠戮(VC)  的(DE)  城鎮(Nc)  布查\n",
      "(Nc)  ，(COMMACATEGORY)  面色(Na)  凝重(VH)  地(DE)  視察(VE)  當地(Nc)  狀況(Na)  ，(COMMACATEGORY)  澤倫斯基(Nb)  的(DE)  面貌(Na)  也(D)  和(P)  俄國(Nc)  剛(D)  入侵(VCL)  時(Ng)  大有(VJ)  不同(VH)  。(PERIODCATEGORY)\n",
      "NerToken(word='俄羅斯', ner='GPE', idx=(2, 5))\n",
      "NerToken(word='2月24日', ner='DATE', idx=(5, 10))\n",
      "NerToken(word='烏克蘭', ner='GPE', idx=(12, 15))\n",
      "NerToken(word='今日（4月5日）', ner='DATE', idx=(19, 27))\n",
      "NerToken(word='41天', ner='DATE', idx=(29, 32))\n",
      "NerToken(word='烏克蘭', ner='GPE', idx=(34, 37))\n",
      "NerToken(word='澤倫斯基', ner='PERSON', idx=(37, 41))\n",
      "NerToken(word='烏克蘭', ner='GPE', idx=(43, 46))\n",
      "NerToken(word='俄國', ner='GPE', idx=(54, 56))\n",
      "NerToken(word='澤倫斯基', ner='PERSON', idx=(59, 63))\n",
      "NerToken(word='4日', ner='DATE', idx=(63, 65))\n",
      "NerToken(word='俄軍', ner='ORG', idx=(68, 70))\n",
      "NerToken(word='布查\\n', ner='GPE', idx=(77, 80))\n",
      "NerToken(word='澤倫斯基', ner='PERSON', idx=(93, 97))\n",
      "NerToken(word='俄國', ner='GPE', idx=(102, 104))\n",
      "\n"
     ]
    }
   ],
   "source": [
    "# 顯示分詞、詞性標記結果\n",
    "def pack_ws_pos_sentece(sentence_ws, sentence_pos):\n",
    "    res = []\n",
    "    for word_ws, word_pos in zip(sentence_ws, sentence_pos):\n",
    "        res.append(f\"{word_ws}({word_pos})\")\n",
    "    return \"  \".join(res)\n",
    "\n",
    "\n",
    "# 顯示執行結果\n",
    "for sentence, sentence_ws, sentence_pos, sentence_ner in zip(text, ws, pos, ner):\n",
    "    print(sentence)\n",
    "    print(pack_ws_pos_sentece(sentence_ws, sentence_pos))\n",
    "    for entity in sentence_ner:\n",
    "        print(entity)\n",
    "    print()"
   ]
  },
  {
   "cell_type": "code",
   "execution_count": null,
   "metadata": {},
   "outputs": [],
   "source": []
  }
 ],
 "metadata": {
  "kernelspec": {
   "display_name": ".venv",
   "language": "python",
   "name": "python3"
  },
  "language_info": {
   "codemirror_mode": {
    "name": "ipython",
    "version": 3
   },
   "file_extension": ".py",
   "mimetype": "text/x-python",
   "name": "python",
   "nbconvert_exporter": "python",
   "pygments_lexer": "ipython3",
   "version": "3.12.3"
  }
 },
 "nbformat": 4,
 "nbformat_minor": 4
}
