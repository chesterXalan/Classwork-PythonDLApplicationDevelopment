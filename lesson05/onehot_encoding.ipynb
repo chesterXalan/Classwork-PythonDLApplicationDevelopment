{
 "cells": [
  {
   "cell_type": "code",
   "execution_count": 1,
   "metadata": {},
   "outputs": [],
   "source": [
    "from sklearn.feature_extraction.text import CountVectorizer\n",
    "import seaborn as sns\n",
    "import matplotlib.pyplot as plt\n",
    "import jieba\n",
    "import jieba.analyse"
   ]
  },
  {
   "cell_type": "code",
   "execution_count": 2,
   "metadata": {},
   "outputs": [
    {
     "name": "stdout",
     "output_type": "stream",
     "text": [
      "[[1 1 0 1 0 1 1]\n",
      " [0 0 1 1 1 1 0]]\n"
     ]
    },
    {
     "data": {
      "image/png": "[encoded data removed]",
      "text/plain": [
       "<Figure size 640x480 with 1 Axes>"
      ]
     },
     "metadata": {},
     "output_type": "display_data"
    }
   ],
   "source": [
    "# 英文展示\n",
    "corpus = [\"Time flies flies like an arrow.\", \"Fruit flies like a banana.\"]\n",
    "\n",
    "one_hot_vectorizer = CountVectorizer(binary=True)\n",
    "one_hot = one_hot_vectorizer.fit_transform(corpus).toarray()\n",
    "\n",
    "sns.heatmap(one_hot, annot=True, cbar=False, yticklabels=[\"Sentence 1\", \"Sentence 2\"])\n",
    "print(one_hot)\n",
    "plt.show()"
   ]
  },
  {
   "cell_type": "code",
   "execution_count": 3,
   "metadata": {},
   "outputs": [],
   "source": [
    "# 中文展示\n",
    "# 取得停用詞列表\n",
    "def get_stopwords_list(stopwordfile):\n",
    "    stopwords = [\n",
    "        line.strip() for line in open(stopwordfile, encoding=\"UTF-8\").readlines()\n",
    "    ]\n",
    "    return stopwords\n",
    "\n",
    "\n",
    "# 移除停用詞\n",
    "def movestopwords(sentence):\n",
    "    stopwords = get_stopwords_list(\"./stopwords.txt\")  # 載入停用詞檔\n",
    "    santi_words = [x for x in sentence if len(x) > 1 and x not in stopwords]\n",
    "    return santi_words"
   ]
  },
  {
   "cell_type": "code",
   "execution_count": 5,
   "metadata": {},
   "outputs": [
    {
     "data": {
      "text/plain": [
       "['小明 碩士 畢業 台北 淡江 大學 日本 京都 大學 深造',\n",
       " '小王 畢業 清華大學 台北 工作 日本 早稻田 大學 深造',\n",
       " '小李 畢業 清華大學 碩士 畢業 中央 大學 計算 博士 中央 大學']"
      ]
     },
     "execution_count": 5,
     "metadata": {},
     "output_type": "execute_result"
    }
   ],
   "source": [
    "# 語料\n",
    "corpus = [\n",
    "    \"小明碩士畢業於台北淡江大學，後在日本京都大學深造。\",\n",
    "    \"小王畢業於清華大學，後來在台北工作，後在日本早稻田大學深造\",\n",
    "    \"小李畢業於清華大學，碩士畢業於中央大學計算所，博士也在中央大學\",\n",
    "]\n",
    "\n",
    "newcorpus = []\n",
    "\n",
    "for str in corpus:\n",
    "    orgwordlist = jieba.lcut(str)  # jieba分詞\n",
    "    wordlist = movestopwords(orgwordlist)  # 移除停用詞\n",
    "    newword = \" \".join(wordlist)  # 依照語料庫要求進行空格分隔\n",
    "    newcorpus.append(newword)  # 依照語料庫要求轉換成列表\n",
    "newcorpus"
   ]
  },
  {
   "cell_type": "code",
   "execution_count": 6,
   "metadata": {},
   "outputs": [
    {
     "data": {
      "text/plain": [
       "{'小明': 5,\n",
       " '碩士': 15,\n",
       " '畢業': 14,\n",
       " '台北': 3,\n",
       " '淡江': 11,\n",
       " '大學': 4,\n",
       " '日本': 9,\n",
       " '京都': 1,\n",
       " '深造': 12,\n",
       " '小王': 7,\n",
       " '清華大學': 13,\n",
       " '工作': 8,\n",
       " '早稻田': 10,\n",
       " '小李': 6,\n",
       " '中央': 0,\n",
       " '計算': 16,\n",
       " '博士': 2}"
      ]
     },
     "execution_count": 6,
     "metadata": {},
     "output_type": "execute_result"
    }
   ],
   "source": [
    "# 建立詞袋資料結構\n",
    "one_hot_vectorizer = CountVectorizer(binary=True)\n",
    "\n",
    "# 轉換語料，並矩陣化\n",
    "one_hot = one_hot_vectorizer.fit_transform(newcorpus).toarray()\n",
    "\n",
    "# 輸出熱詞\n",
    "one_hot_vectorizer.vocabulary_\n"
   ]
  },
  {
   "cell_type": "code",
   "execution_count": 7,
   "metadata": {},
   "outputs": [
    {
     "data": {
      "text/html": [
       "<div>\n",
       "<style scoped>\n",
       "    .dataframe tbody tr th:only-of-type {\n",
       "        vertical-align: middle;\n",
       "    }\n",
       "\n",
       "    .dataframe tbody tr th {\n",
       "        vertical-align: top;\n",
       "    }\n",
       "\n",
       "    .dataframe thead th {\n",
       "        text-align: right;\n",
       "    }\n",
       "</style>\n",
       "<table border=\"1\" class=\"dataframe\">\n",
       "  <thead>\n",
       "    <tr style=\"text-align: right;\">\n",
       "      <th></th>\n",
       "      <th>中央</th>\n",
       "      <th>京都</th>\n",
       "      <th>博士</th>\n",
       "      <th>台北</th>\n",
       "      <th>大學</th>\n",
       "      <th>小明</th>\n",
       "      <th>小李</th>\n",
       "      <th>小王</th>\n",
       "      <th>工作</th>\n",
       "      <th>日本</th>\n",
       "      <th>早稻田</th>\n",
       "      <th>淡江</th>\n",
       "      <th>深造</th>\n",
       "      <th>清華大學</th>\n",
       "      <th>畢業</th>\n",
       "      <th>碩士</th>\n",
       "      <th>計算</th>\n",
       "    </tr>\n",
       "  </thead>\n",
       "  <tbody>\n",
       "    <tr>\n",
       "      <th>0</th>\n",
       "      <td>0</td>\n",
       "      <td>1</td>\n",
       "      <td>0</td>\n",
       "      <td>1</td>\n",
       "      <td>1</td>\n",
       "      <td>1</td>\n",
       "      <td>0</td>\n",
       "      <td>0</td>\n",
       "      <td>0</td>\n",
       "      <td>1</td>\n",
       "      <td>0</td>\n",
       "      <td>1</td>\n",
       "      <td>1</td>\n",
       "      <td>0</td>\n",
       "      <td>1</td>\n",
       "      <td>1</td>\n",
       "      <td>0</td>\n",
       "    </tr>\n",
       "    <tr>\n",
       "      <th>1</th>\n",
       "      <td>0</td>\n",
       "      <td>0</td>\n",
       "      <td>0</td>\n",
       "      <td>1</td>\n",
       "      <td>1</td>\n",
       "      <td>0</td>\n",
       "      <td>0</td>\n",
       "      <td>1</td>\n",
       "      <td>1</td>\n",
       "      <td>1</td>\n",
       "      <td>1</td>\n",
       "      <td>0</td>\n",
       "      <td>1</td>\n",
       "      <td>1</td>\n",
       "      <td>1</td>\n",
       "      <td>0</td>\n",
       "      <td>0</td>\n",
       "    </tr>\n",
       "    <tr>\n",
       "      <th>2</th>\n",
       "      <td>1</td>\n",
       "      <td>0</td>\n",
       "      <td>1</td>\n",
       "      <td>0</td>\n",
       "      <td>1</td>\n",
       "      <td>0</td>\n",
       "      <td>1</td>\n",
       "      <td>0</td>\n",
       "      <td>0</td>\n",
       "      <td>0</td>\n",
       "      <td>0</td>\n",
       "      <td>0</td>\n",
       "      <td>0</td>\n",
       "      <td>1</td>\n",
       "      <td>1</td>\n",
       "      <td>1</td>\n",
       "      <td>1</td>\n",
       "    </tr>\n",
       "  </tbody>\n",
       "</table>\n",
       "</div>"
      ],
      "text/plain": [
       "   中央  京都  博士  台北  大學  小明  小李  小王  工作  日本  早稻田  淡江  深造  清華大學  畢業  碩士  計算\n",
       "0   0   1   0   1   1   1   0   0   0   1    0   1   1     0   1   1   0\n",
       "1   0   0   0   1   1   0   0   1   1   1    1   0   1     1   1   0   0\n",
       "2   1   0   1   0   1   0   1   0   0   0    0   0   0     1   1   1   1"
      ]
     },
     "execution_count": 7,
     "metadata": {},
     "output_type": "execute_result"
    }
   ],
   "source": [
    "import pandas as pd\n",
    "\n",
    "df = pd.DataFrame(data=one_hot, columns=one_hot_vectorizer.get_feature_names_out())\n",
    "# 舊版：one_hot_vectorizer.get_feature_names()\n",
    "df"
   ]
  },
  {
   "cell_type": "code",
   "execution_count": 8,
   "metadata": {},
   "outputs": [
    {
     "data": {
      "text/plain": [
       "array(['中央', '京都', '博士', '台北', '大學', '小明', '小李', '小王', '工作', '日本', '早稻田',\n",
       "       '淡江', '深造', '清華大學', '畢業', '碩士', '計算'], dtype=object)"
      ]
     },
     "execution_count": 8,
     "metadata": {},
     "output_type": "execute_result"
    }
   ],
   "source": [
    "one_hot_vectorizer.get_feature_names_out()\n"
   ]
  },
  {
   "cell_type": "code",
   "execution_count": 9,
   "metadata": {},
   "outputs": [
    {
     "name": "stderr",
     "output_type": "stream",
     "text": [
      "/home/chesterxalan/github/Classwork/Classwork-PythonDLApplicationDevelopment/.venv/lib/python3.11/site-packages/seaborn/utils.py:61: UserWarning: Glyph 20013 (\\N{CJK UNIFIED IDEOGRAPH-4E2D}) missing from font(s) DejaVu Sans.\n",
      "  fig.canvas.draw()\n",
      "/home/chesterxalan/github/Classwork/Classwork-PythonDLApplicationDevelopment/.venv/lib/python3.11/site-packages/seaborn/utils.py:61: UserWarning: Glyph 22830 (\\N{CJK UNIFIED IDEOGRAPH-592E}) missing from font(s) DejaVu Sans.\n",
      "  fig.canvas.draw()\n",
      "/home/chesterxalan/github/Classwork/Classwork-PythonDLApplicationDevelopment/.venv/lib/python3.11/site-packages/seaborn/utils.py:61: UserWarning: Glyph 20140 (\\N{CJK UNIFIED IDEOGRAPH-4EAC}) missing from font(s) DejaVu Sans.\n",
      "  fig.canvas.draw()\n",
      "/home/chesterxalan/github/Classwork/Classwork-PythonDLApplicationDevelopment/.venv/lib/python3.11/site-packages/seaborn/utils.py:61: UserWarning: Glyph 37117 (\\N{CJK UNIFIED IDEOGRAPH-90FD}) missing from font(s) DejaVu Sans.\n",
      "  fig.canvas.draw()\n",
      "/home/chesterxalan/github/Classwork/Classwork-PythonDLApplicationDevelopment/.venv/lib/python3.11/site-packages/seaborn/utils.py:61: UserWarning: Glyph 21338 (\\N{CJK UNIFIED IDEOGRAPH-535A}) missing from font(s) DejaVu Sans.\n",
      "  fig.canvas.draw()\n",
      "/home/chesterxalan/github/Classwork/Classwork-PythonDLApplicationDevelopment/.venv/lib/python3.11/site-packages/seaborn/utils.py:61: UserWarning: Glyph 22763 (\\N{CJK UNIFIED IDEOGRAPH-58EB}) missing from font(s) DejaVu Sans.\n",
      "  fig.canvas.draw()\n",
      "/home/chesterxalan/github/Classwork/Classwork-PythonDLApplicationDevelopment/.venv/lib/python3.11/site-packages/seaborn/utils.py:61: UserWarning: Glyph 21488 (\\N{CJK UNIFIED IDEOGRAPH-53F0}) missing from font(s) DejaVu Sans.\n",
      "  fig.canvas.draw()\n",
      "/home/chesterxalan/github/Classwork/Classwork-PythonDLApplicationDevelopment/.venv/lib/python3.11/site-packages/seaborn/utils.py:61: UserWarning: Glyph 21271 (\\N{CJK UNIFIED IDEOGRAPH-5317}) missing from font(s) DejaVu Sans.\n",
      "  fig.canvas.draw()\n",
      "/home/chesterxalan/github/Classwork/Classwork-PythonDLApplicationDevelopment/.venv/lib/python3.11/site-packages/seaborn/utils.py:61: UserWarning: Glyph 22823 (\\N{CJK UNIFIED IDEOGRAPH-5927}) missing from font(s) DejaVu Sans.\n",
      "  fig.canvas.draw()\n",
      "/home/chesterxalan/github/Classwork/Classwork-PythonDLApplicationDevelopment/.venv/lib/python3.11/site-packages/seaborn/utils.py:61: UserWarning: Glyph 23416 (\\N{CJK UNIFIED IDEOGRAPH-5B78}) missing from font(s) DejaVu Sans.\n",
      "  fig.canvas.draw()\n",
      "/home/chesterxalan/github/Classwork/Classwork-PythonDLApplicationDevelopment/.venv/lib/python3.11/site-packages/seaborn/utils.py:61: UserWarning: Glyph 23567 (\\N{CJK UNIFIED IDEOGRAPH-5C0F}) missing from font(s) DejaVu Sans.\n",
      "  fig.canvas.draw()\n",
      "/home/chesterxalan/github/Classwork/Classwork-PythonDLApplicationDevelopment/.venv/lib/python3.11/site-packages/seaborn/utils.py:61: UserWarning: Glyph 26126 (\\N{CJK UNIFIED IDEOGRAPH-660E}) missing from font(s) DejaVu Sans.\n",
      "  fig.canvas.draw()\n",
      "/home/chesterxalan/github/Classwork/Classwork-PythonDLApplicationDevelopment/.venv/lib/python3.11/site-packages/seaborn/utils.py:61: UserWarning: Glyph 26446 (\\N{CJK UNIFIED IDEOGRAPH-674E}) missing from font(s) DejaVu Sans.\n",
      "  fig.canvas.draw()\n",
      "/home/chesterxalan/github/Classwork/Classwork-PythonDLApplicationDevelopment/.venv/lib/python3.11/site-packages/seaborn/utils.py:61: UserWarning: Glyph 29579 (\\N{CJK UNIFIED IDEOGRAPH-738B}) missing from font(s) DejaVu Sans.\n",
      "  fig.canvas.draw()\n",
      "/home/chesterxalan/github/Classwork/Classwork-PythonDLApplicationDevelopment/.venv/lib/python3.11/site-packages/seaborn/utils.py:61: UserWarning: Glyph 24037 (\\N{CJK UNIFIED IDEOGRAPH-5DE5}) missing from font(s) DejaVu Sans.\n",
      "  fig.canvas.draw()\n",
      "/home/chesterxalan/github/Classwork/Classwork-PythonDLApplicationDevelopment/.venv/lib/python3.11/site-packages/seaborn/utils.py:61: UserWarning: Glyph 20316 (\\N{CJK UNIFIED IDEOGRAPH-4F5C}) missing from font(s) DejaVu Sans.\n",
      "  fig.canvas.draw()\n",
      "/home/chesterxalan/github/Classwork/Classwork-PythonDLApplicationDevelopment/.venv/lib/python3.11/site-packages/seaborn/utils.py:61: UserWarning: Glyph 26085 (\\N{CJK UNIFIED IDEOGRAPH-65E5}) missing from font(s) DejaVu Sans.\n",
      "  fig.canvas.draw()\n",
      "/home/chesterxalan/github/Classwork/Classwork-PythonDLApplicationDevelopment/.venv/lib/python3.11/site-packages/seaborn/utils.py:61: UserWarning: Glyph 26412 (\\N{CJK UNIFIED IDEOGRAPH-672C}) missing from font(s) DejaVu Sans.\n",
      "  fig.canvas.draw()\n",
      "/home/chesterxalan/github/Classwork/Classwork-PythonDLApplicationDevelopment/.venv/lib/python3.11/site-packages/seaborn/utils.py:61: UserWarning: Glyph 26089 (\\N{CJK UNIFIED IDEOGRAPH-65E9}) missing from font(s) DejaVu Sans.\n",
      "  fig.canvas.draw()\n",
      "/home/chesterxalan/github/Classwork/Classwork-PythonDLApplicationDevelopment/.venv/lib/python3.11/site-packages/seaborn/utils.py:61: UserWarning: Glyph 31291 (\\N{CJK UNIFIED IDEOGRAPH-7A3B}) missing from font(s) DejaVu Sans.\n",
      "  fig.canvas.draw()\n",
      "/home/chesterxalan/github/Classwork/Classwork-PythonDLApplicationDevelopment/.venv/lib/python3.11/site-packages/seaborn/utils.py:61: UserWarning: Glyph 30000 (\\N{CJK UNIFIED IDEOGRAPH-7530}) missing from font(s) DejaVu Sans.\n",
      "  fig.canvas.draw()\n",
      "/home/chesterxalan/github/Classwork/Classwork-PythonDLApplicationDevelopment/.venv/lib/python3.11/site-packages/seaborn/utils.py:61: UserWarning: Glyph 28129 (\\N{CJK UNIFIED IDEOGRAPH-6DE1}) missing from font(s) DejaVu Sans.\n",
      "  fig.canvas.draw()\n",
      "/home/chesterxalan/github/Classwork/Classwork-PythonDLApplicationDevelopment/.venv/lib/python3.11/site-packages/seaborn/utils.py:61: UserWarning: Glyph 27743 (\\N{CJK UNIFIED IDEOGRAPH-6C5F}) missing from font(s) DejaVu Sans.\n",
      "  fig.canvas.draw()\n",
      "/home/chesterxalan/github/Classwork/Classwork-PythonDLApplicationDevelopment/.venv/lib/python3.11/site-packages/seaborn/utils.py:61: UserWarning: Glyph 28145 (\\N{CJK UNIFIED IDEOGRAPH-6DF1}) missing from font(s) DejaVu Sans.\n",
      "  fig.canvas.draw()\n",
      "/home/chesterxalan/github/Classwork/Classwork-PythonDLApplicationDevelopment/.venv/lib/python3.11/site-packages/seaborn/utils.py:61: UserWarning: Glyph 36896 (\\N{CJK UNIFIED IDEOGRAPH-9020}) missing from font(s) DejaVu Sans.\n",
      "  fig.canvas.draw()\n",
      "/home/chesterxalan/github/Classwork/Classwork-PythonDLApplicationDevelopment/.venv/lib/python3.11/site-packages/seaborn/utils.py:61: UserWarning: Glyph 28165 (\\N{CJK UNIFIED IDEOGRAPH-6E05}) missing from font(s) DejaVu Sans.\n",
      "  fig.canvas.draw()\n",
      "/home/chesterxalan/github/Classwork/Classwork-PythonDLApplicationDevelopment/.venv/lib/python3.11/site-packages/seaborn/utils.py:61: UserWarning: Glyph 33775 (\\N{CJK UNIFIED IDEOGRAPH-83EF}) missing from font(s) DejaVu Sans.\n",
      "  fig.canvas.draw()\n",
      "/home/chesterxalan/github/Classwork/Classwork-PythonDLApplicationDevelopment/.venv/lib/python3.11/site-packages/seaborn/utils.py:61: UserWarning: Glyph 30050 (\\N{CJK UNIFIED IDEOGRAPH-7562}) missing from font(s) DejaVu Sans.\n",
      "  fig.canvas.draw()\n",
      "/home/chesterxalan/github/Classwork/Classwork-PythonDLApplicationDevelopment/.venv/lib/python3.11/site-packages/seaborn/utils.py:61: UserWarning: Glyph 26989 (\\N{CJK UNIFIED IDEOGRAPH-696D}) missing from font(s) DejaVu Sans.\n",
      "  fig.canvas.draw()\n",
      "/home/chesterxalan/github/Classwork/Classwork-PythonDLApplicationDevelopment/.venv/lib/python3.11/site-packages/seaborn/utils.py:61: UserWarning: Glyph 30889 (\\N{CJK UNIFIED IDEOGRAPH-78A9}) missing from font(s) DejaVu Sans.\n",
      "  fig.canvas.draw()\n",
      "/home/chesterxalan/github/Classwork/Classwork-PythonDLApplicationDevelopment/.venv/lib/python3.11/site-packages/seaborn/utils.py:61: UserWarning: Glyph 35336 (\\N{CJK UNIFIED IDEOGRAPH-8A08}) missing from font(s) DejaVu Sans.\n",
      "  fig.canvas.draw()\n",
      "/home/chesterxalan/github/Classwork/Classwork-PythonDLApplicationDevelopment/.venv/lib/python3.11/site-packages/seaborn/utils.py:61: UserWarning: Glyph 31639 (\\N{CJK UNIFIED IDEOGRAPH-7B97}) missing from font(s) DejaVu Sans.\n",
      "  fig.canvas.draw()\n",
      "/home/chesterxalan/github/Classwork/Classwork-PythonDLApplicationDevelopment/.venv/lib/python3.11/site-packages/IPython/core/pylabtools.py:170: UserWarning: Glyph 20013 (\\N{CJK UNIFIED IDEOGRAPH-4E2D}) missing from font(s) DejaVu Sans.\n",
      "  fig.canvas.print_figure(bytes_io, **kw)\n",
      "/home/chesterxalan/github/Classwork/Classwork-PythonDLApplicationDevelopment/.venv/lib/python3.11/site-packages/IPython/core/pylabtools.py:170: UserWarning: Glyph 22830 (\\N{CJK UNIFIED IDEOGRAPH-592E}) missing from font(s) DejaVu Sans.\n",
      "  fig.canvas.print_figure(bytes_io, **kw)\n",
      "/home/chesterxalan/github/Classwork/Classwork-PythonDLApplicationDevelopment/.venv/lib/python3.11/site-packages/IPython/core/pylabtools.py:170: UserWarning: Glyph 20140 (\\N{CJK UNIFIED IDEOGRAPH-4EAC}) missing from font(s) DejaVu Sans.\n",
      "  fig.canvas.print_figure(bytes_io, **kw)\n",
      "/home/chesterxalan/github/Classwork/Classwork-PythonDLApplicationDevelopment/.venv/lib/python3.11/site-packages/IPython/core/pylabtools.py:170: UserWarning: Glyph 37117 (\\N{CJK UNIFIED IDEOGRAPH-90FD}) missing from font(s) DejaVu Sans.\n",
      "  fig.canvas.print_figure(bytes_io, **kw)\n",
      "/home/chesterxalan/github/Classwork/Classwork-PythonDLApplicationDevelopment/.venv/lib/python3.11/site-packages/IPython/core/pylabtools.py:170: UserWarning: Glyph 21338 (\\N{CJK UNIFIED IDEOGRAPH-535A}) missing from font(s) DejaVu Sans.\n",
      "  fig.canvas.print_figure(bytes_io, **kw)\n",
      "/home/chesterxalan/github/Classwork/Classwork-PythonDLApplicationDevelopment/.venv/lib/python3.11/site-packages/IPython/core/pylabtools.py:170: UserWarning: Glyph 22763 (\\N{CJK UNIFIED IDEOGRAPH-58EB}) missing from font(s) DejaVu Sans.\n",
      "  fig.canvas.print_figure(bytes_io, **kw)\n",
      "/home/chesterxalan/github/Classwork/Classwork-PythonDLApplicationDevelopment/.venv/lib/python3.11/site-packages/IPython/core/pylabtools.py:170: UserWarning: Glyph 21488 (\\N{CJK UNIFIED IDEOGRAPH-53F0}) missing from font(s) DejaVu Sans.\n",
      "  fig.canvas.print_figure(bytes_io, **kw)\n",
      "/home/chesterxalan/github/Classwork/Classwork-PythonDLApplicationDevelopment/.venv/lib/python3.11/site-packages/IPython/core/pylabtools.py:170: UserWarning: Glyph 21271 (\\N{CJK UNIFIED IDEOGRAPH-5317}) missing from font(s) DejaVu Sans.\n",
      "  fig.canvas.print_figure(bytes_io, **kw)\n",
      "/home/chesterxalan/github/Classwork/Classwork-PythonDLApplicationDevelopment/.venv/lib/python3.11/site-packages/IPython/core/pylabtools.py:170: UserWarning: Glyph 22823 (\\N{CJK UNIFIED IDEOGRAPH-5927}) missing from font(s) DejaVu Sans.\n",
      "  fig.canvas.print_figure(bytes_io, **kw)\n",
      "/home/chesterxalan/github/Classwork/Classwork-PythonDLApplicationDevelopment/.venv/lib/python3.11/site-packages/IPython/core/pylabtools.py:170: UserWarning: Glyph 23416 (\\N{CJK UNIFIED IDEOGRAPH-5B78}) missing from font(s) DejaVu Sans.\n",
      "  fig.canvas.print_figure(bytes_io, **kw)\n",
      "/home/chesterxalan/github/Classwork/Classwork-PythonDLApplicationDevelopment/.venv/lib/python3.11/site-packages/IPython/core/pylabtools.py:170: UserWarning: Glyph 23567 (\\N{CJK UNIFIED IDEOGRAPH-5C0F}) missing from font(s) DejaVu Sans.\n",
      "  fig.canvas.print_figure(bytes_io, **kw)\n",
      "/home/chesterxalan/github/Classwork/Classwork-PythonDLApplicationDevelopment/.venv/lib/python3.11/site-packages/IPython/core/pylabtools.py:170: UserWarning: Glyph 26126 (\\N{CJK UNIFIED IDEOGRAPH-660E}) missing from font(s) DejaVu Sans.\n",
      "  fig.canvas.print_figure(bytes_io, **kw)\n",
      "/home/chesterxalan/github/Classwork/Classwork-PythonDLApplicationDevelopment/.venv/lib/python3.11/site-packages/IPython/core/pylabtools.py:170: UserWarning: Glyph 26446 (\\N{CJK UNIFIED IDEOGRAPH-674E}) missing from font(s) DejaVu Sans.\n",
      "  fig.canvas.print_figure(bytes_io, **kw)\n",
      "/home/chesterxalan/github/Classwork/Classwork-PythonDLApplicationDevelopment/.venv/lib/python3.11/site-packages/IPython/core/pylabtools.py:170: UserWarning: Glyph 29579 (\\N{CJK UNIFIED IDEOGRAPH-738B}) missing from font(s) DejaVu Sans.\n",
      "  fig.canvas.print_figure(bytes_io, **kw)\n",
      "/home/chesterxalan/github/Classwork/Classwork-PythonDLApplicationDevelopment/.venv/lib/python3.11/site-packages/IPython/core/pylabtools.py:170: UserWarning: Glyph 24037 (\\N{CJK UNIFIED IDEOGRAPH-5DE5}) missing from font(s) DejaVu Sans.\n",
      "  fig.canvas.print_figure(bytes_io, **kw)\n",
      "/home/chesterxalan/github/Classwork/Classwork-PythonDLApplicationDevelopment/.venv/lib/python3.11/site-packages/IPython/core/pylabtools.py:170: UserWarning: Glyph 20316 (\\N{CJK UNIFIED IDEOGRAPH-4F5C}) missing from font(s) DejaVu Sans.\n",
      "  fig.canvas.print_figure(bytes_io, **kw)\n",
      "/home/chesterxalan/github/Classwork/Classwork-PythonDLApplicationDevelopment/.venv/lib/python3.11/site-packages/IPython/core/pylabtools.py:170: UserWarning: Glyph 26085 (\\N{CJK UNIFIED IDEOGRAPH-65E5}) missing from font(s) DejaVu Sans.\n",
      "  fig.canvas.print_figure(bytes_io, **kw)\n",
      "/home/chesterxalan/github/Classwork/Classwork-PythonDLApplicationDevelopment/.venv/lib/python3.11/site-packages/IPython/core/pylabtools.py:170: UserWarning: Glyph 26412 (\\N{CJK UNIFIED IDEOGRAPH-672C}) missing from font(s) DejaVu Sans.\n",
      "  fig.canvas.print_figure(bytes_io, **kw)\n",
      "/home/chesterxalan/github/Classwork/Classwork-PythonDLApplicationDevelopment/.venv/lib/python3.11/site-packages/IPython/core/pylabtools.py:170: UserWarning: Glyph 26089 (\\N{CJK UNIFIED IDEOGRAPH-65E9}) missing from font(s) DejaVu Sans.\n",
      "  fig.canvas.print_figure(bytes_io, **kw)\n",
      "/home/chesterxalan/github/Classwork/Classwork-PythonDLApplicationDevelopment/.venv/lib/python3.11/site-packages/IPython/core/pylabtools.py:170: UserWarning: Glyph 31291 (\\N{CJK UNIFIED IDEOGRAPH-7A3B}) missing from font(s) DejaVu Sans.\n",
      "  fig.canvas.print_figure(bytes_io, **kw)\n",
      "/home/chesterxalan/github/Classwork/Classwork-PythonDLApplicationDevelopment/.venv/lib/python3.11/site-packages/IPython/core/pylabtools.py:170: UserWarning: Glyph 30000 (\\N{CJK UNIFIED IDEOGRAPH-7530}) missing from font(s) DejaVu Sans.\n",
      "  fig.canvas.print_figure(bytes_io, **kw)\n",
      "/home/chesterxalan/github/Classwork/Classwork-PythonDLApplicationDevelopment/.venv/lib/python3.11/site-packages/IPython/core/pylabtools.py:170: UserWarning: Glyph 28129 (\\N{CJK UNIFIED IDEOGRAPH-6DE1}) missing from font(s) DejaVu Sans.\n",
      "  fig.canvas.print_figure(bytes_io, **kw)\n",
      "/home/chesterxalan/github/Classwork/Classwork-PythonDLApplicationDevelopment/.venv/lib/python3.11/site-packages/IPython/core/pylabtools.py:170: UserWarning: Glyph 27743 (\\N{CJK UNIFIED IDEOGRAPH-6C5F}) missing from font(s) DejaVu Sans.\n",
      "  fig.canvas.print_figure(bytes_io, **kw)\n",
      "/home/chesterxalan/github/Classwork/Classwork-PythonDLApplicationDevelopment/.venv/lib/python3.11/site-packages/IPython/core/pylabtools.py:170: UserWarning: Glyph 28145 (\\N{CJK UNIFIED IDEOGRAPH-6DF1}) missing from font(s) DejaVu Sans.\n",
      "  fig.canvas.print_figure(bytes_io, **kw)\n",
      "/home/chesterxalan/github/Classwork/Classwork-PythonDLApplicationDevelopment/.venv/lib/python3.11/site-packages/IPython/core/pylabtools.py:170: UserWarning: Glyph 36896 (\\N{CJK UNIFIED IDEOGRAPH-9020}) missing from font(s) DejaVu Sans.\n",
      "  fig.canvas.print_figure(bytes_io, **kw)\n",
      "/home/chesterxalan/github/Classwork/Classwork-PythonDLApplicationDevelopment/.venv/lib/python3.11/site-packages/IPython/core/pylabtools.py:170: UserWarning: Glyph 28165 (\\N{CJK UNIFIED IDEOGRAPH-6E05}) missing from font(s) DejaVu Sans.\n",
      "  fig.canvas.print_figure(bytes_io, **kw)\n",
      "/home/chesterxalan/github/Classwork/Classwork-PythonDLApplicationDevelopment/.venv/lib/python3.11/site-packages/IPython/core/pylabtools.py:170: UserWarning: Glyph 33775 (\\N{CJK UNIFIED IDEOGRAPH-83EF}) missing from font(s) DejaVu Sans.\n",
      "  fig.canvas.print_figure(bytes_io, **kw)\n",
      "/home/chesterxalan/github/Classwork/Classwork-PythonDLApplicationDevelopment/.venv/lib/python3.11/site-packages/IPython/core/pylabtools.py:170: UserWarning: Glyph 30050 (\\N{CJK UNIFIED IDEOGRAPH-7562}) missing from font(s) DejaVu Sans.\n",
      "  fig.canvas.print_figure(bytes_io, **kw)\n",
      "/home/chesterxalan/github/Classwork/Classwork-PythonDLApplicationDevelopment/.venv/lib/python3.11/site-packages/IPython/core/pylabtools.py:170: UserWarning: Glyph 26989 (\\N{CJK UNIFIED IDEOGRAPH-696D}) missing from font(s) DejaVu Sans.\n",
      "  fig.canvas.print_figure(bytes_io, **kw)\n",
      "/home/chesterxalan/github/Classwork/Classwork-PythonDLApplicationDevelopment/.venv/lib/python3.11/site-packages/IPython/core/pylabtools.py:170: UserWarning: Glyph 30889 (\\N{CJK UNIFIED IDEOGRAPH-78A9}) missing from font(s) DejaVu Sans.\n",
      "  fig.canvas.print_figure(bytes_io, **kw)\n",
      "/home/chesterxalan/github/Classwork/Classwork-PythonDLApplicationDevelopment/.venv/lib/python3.11/site-packages/IPython/core/pylabtools.py:170: UserWarning: Glyph 35336 (\\N{CJK UNIFIED IDEOGRAPH-8A08}) missing from font(s) DejaVu Sans.\n",
      "  fig.canvas.print_figure(bytes_io, **kw)\n",
      "/home/chesterxalan/github/Classwork/Classwork-PythonDLApplicationDevelopment/.venv/lib/python3.11/site-packages/IPython/core/pylabtools.py:170: UserWarning: Glyph 31639 (\\N{CJK UNIFIED IDEOGRAPH-7B97}) missing from font(s) DejaVu Sans.\n",
      "  fig.canvas.print_figure(bytes_io, **kw)\n"
     ]
    },
    {
     "data": {
      "image/png": "[encoded data removed]",
      "text/plain": [
       "<Figure size 640x480 with 1 Axes>"
      ]
     },
     "metadata": {},
     "output_type": "display_data"
    }
   ],
   "source": [
    "# one_hot 圖\n",
    "sns.heatmap(\n",
    "    one_hot,\n",
    "    annot=True,\n",
    "    cbar=False,\n",
    "    xticklabels=one_hot_vectorizer.get_feature_names_out(),\n",
    "    yticklabels=[\"1\", \"2\", \"3\"],\n",
    ")\n",
    "plt.show()"
   ]
  },
  {
   "cell_type": "code",
   "execution_count": null,
   "metadata": {},
   "outputs": [],
   "source": []
  }
 ],
 "metadata": {
  "kernelspec": {
   "display_name": ".venv",
   "language": "python",
   "name": "python3"
  },
  "language_info": {
   "codemirror_mode": {
    "name": "ipython",
    "version": 3
   },
   "file_extension": ".py",
   "mimetype": "text/x-python",
   "name": "python",
   "nbconvert_exporter": "python",
   "pygments_lexer": "ipython3",
   "version": "3.11.10"
  }
 },
 "nbformat": 4,
 "nbformat_minor": 2
}
