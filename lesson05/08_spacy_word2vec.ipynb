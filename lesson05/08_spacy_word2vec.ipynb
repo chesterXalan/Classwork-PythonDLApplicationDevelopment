{
 "cells": [
  {
   "cell_type": "markdown",
   "id": "d92d7057",
   "metadata": {},
   "source": [
    "# spaCy 詞向量(Word2Vec)"
   ]
  },
  {
   "cell_type": "code",
   "execution_count": 17,
   "id": "d9b23fe9",
   "metadata": {},
   "outputs": [
    {
     "name": "stdout",
     "output_type": "stream",
     "text": [
      "dog NOUN NN True 7.443447 False\n",
      "cat NOUN NN True 7.443447 False\n",
      "banana NOUN NN True 6.895898 False\n",
      "afskfsd NOUN NN False 0.0 True\n"
     ]
    }
   ],
   "source": [
    "import spacy\n",
    "\n",
    "nlp = spacy.load(\"en_core_web_md\")\n",
    "tokens = nlp(\"dog cat banana afskfsd\")\n",
    "\n",
    "for token in tokens:\n",
    "    print(token.text, token.pos_, token.tag_, token.has_vector, token.vector_norm, token.is_oov)"
   ]
  },
  {
   "cell_type": "code",
   "execution_count": null,
   "metadata": {},
   "outputs": [],
   "source": [
    "import pandas as pd\n",
    "\n",
    "columns=['詞', '詞類', '詞性標註', '單詞依存關係', '是否為純字母組成', '是否為停用詞']\n",
    "dim = list(map(lambda x: [x.text, x.pos_, x.tag_, x.dep_, x.is_alpha, x.is_stop], tokens))\n",
    "\n",
    "df = pd.DataFrame(dim, columns=columns)\n",
    "df"
   ]
  },
  {
   "cell_type": "code",
   "execution_count": 6,
   "id": "9dcf2131",
   "metadata": {
    "scrolled": true
   },
   "outputs": [
    {
     "name": "stdout",
     "output_type": "stream",
     "text": [
      "(300,)\n",
      "[-0.6334     0.18981   -0.53544   -0.52658   -0.30001    0.30559\n",
      " -0.49303    0.14636    0.012273   0.96802    0.0040354  0.25234\n",
      " -0.29864   -0.014646  -0.24905   -0.67125   -0.053366   0.59426\n",
      " -0.068034   0.10315    0.66759    0.024617  -0.37548    0.52557\n",
      "  0.054449  -0.36748   -0.28013    0.090898  -0.025687  -0.5947\n",
      " -0.24269    0.28603    0.686      0.29737    0.30422    0.69032\n",
      "  0.042784   0.023701  -0.57165    0.70581   -0.20813   -0.03204\n",
      " -0.12494   -0.42933    0.31271    0.30352    0.09421   -0.15493\n",
      "  0.071356   0.15022   -0.41792    0.066394  -0.034546  -0.45772\n",
      "  0.57177   -0.82755   -0.27885    0.71801   -0.12425    0.18551\n",
      "  0.41342   -0.53997    0.55864   -0.015805  -0.1074    -0.29981\n",
      " -0.17271    0.27066    0.043996   0.60107   -0.353      0.6831\n",
      "  0.20703    0.12068    0.24852   -0.15605    0.25812    0.007004\n",
      " -0.10741   -0.097053   0.085628   0.096307   0.20857   -0.23338\n",
      " -0.077905  -0.030906   1.0494     0.55368   -0.10703    0.052234\n",
      "  0.43407   -0.13926    0.38115    0.021104  -0.40922    0.35972\n",
      " -0.28898    0.30618    0.060807  -0.023517   0.58193   -0.3098\n",
      "  0.21013   -0.15557   -0.56913   -1.1364     0.36598   -0.032666\n",
      "  1.1926     0.12825   -0.090486  -0.47965   -0.61164   -0.16484\n",
      " -0.41134    0.19925    0.059183  -0.20842    0.45223    0.27697\n",
      " -0.20745    0.025404  -0.28874    0.040478  -0.22275   -0.43323\n",
      "  0.76957   -0.054327  -0.35213   -0.30842   -0.48791   -0.35564\n",
      "  0.19813   -0.094767  -0.50918    0.18763   -0.087555   0.37709\n",
      " -0.1322    -0.096913  -1.9102     0.55813    0.27391   -0.077744\n",
      " -0.43933   -0.10367   -0.24408    0.41869    0.11659    0.27454\n",
      "  0.81021   -0.11006    0.43131    0.29095   -0.49548   -0.31958\n",
      " -0.072506   0.020286   0.2179     0.22032   -0.29212    0.75639\n",
      "  0.13598    0.019736  -0.83104    0.22836   -0.28669   -1.0529\n",
      "  0.052771   0.41266    0.50149    0.5323     0.51573   -0.31806\n",
      " -0.4619     0.21739   -0.43584   -0.41382    0.042237  -0.57179\n",
      "  0.067623  -0.27854    0.090044   0.20633    0.024678  -0.57703\n",
      " -0.020183  -0.53147   -0.37548   -0.12795   -0.093662  -0.0061183\n",
      "  0.20221   -0.62296   -0.29746    0.26935    0.59009   -0.50382\n",
      " -0.69757    0.20157   -0.33592   -0.45766    0.14061    0.22982\n",
      "  0.044046   0.26386    0.02942    0.34095    1.1496    -0.15555\n",
      " -0.064071   0.30139    0.024211  -0.63515   -0.73347   -0.10346\n",
      " -0.22637   -0.056392  -0.16735   -0.097331  -0.19206   -0.18866\n",
      "  0.15116   -0.038048   0.70205    0.11586   -0.14813    0.0095166\n",
      " -0.33804   -0.10158   -0.23829   -0.22759    0.092504  -0.29839\n",
      " -0.39721    0.26092    0.34594   -0.47396   -0.25725   -0.19257\n",
      " -0.53071    0.1692    -0.47252   -0.17333   -0.40505    0.046446\n",
      " -0.04473    0.33555   -0.5693     0.31591   -0.21167   -0.31298\n",
      " -0.45923   -0.083091   0.086822   0.01264    0.43779    0.12651\n",
      "  0.30156    0.022061   0.26549   -0.29455   -0.14838    0.033692\n",
      " -0.37346   -0.075343  -0.56498   -0.24207   -0.69351   -0.20277\n",
      " -0.0081185  0.030971   0.53615   -0.16613   -0.84087    0.74661\n",
      "  0.029132   0.46936   -0.49755    0.40954   -0.022558   0.21497\n",
      " -0.049528  -0.039799   0.46165    0.26456    0.32985   -0.04219\n",
      " -0.099599  -0.17312   -0.476     -0.019048  -0.41888   -0.2685\n",
      " -0.65281    0.068773  -0.23881   -1.1784     0.25504    0.61171  ]\n"
     ]
    }
   ],
   "source": [
    "for token in tokens:\n",
    "    if token.text == 'banana':\n",
    "        print(token.vector.shape)\n",
    "        print(token.vector)    "
   ]
  },
  {
   "cell_type": "markdown",
   "id": "bfa44fe4",
   "metadata": {},
   "source": [
    "# 中文"
   ]
  },
  {
   "cell_type": "code",
   "execution_count": 4,
   "id": "e7b15296",
   "metadata": {},
   "outputs": [
    {
     "data": {
      "text/html": [
       "<div>\n",
       "<style scoped>\n",
       "    .dataframe tbody tr th:only-of-type {\n",
       "        vertical-align: middle;\n",
       "    }\n",
       "\n",
       "    .dataframe tbody tr th {\n",
       "        vertical-align: top;\n",
       "    }\n",
       "\n",
       "    .dataframe thead th {\n",
       "        text-align: right;\n",
       "    }\n",
       "</style>\n",
       "<table border=\"1\" class=\"dataframe\">\n",
       "  <thead>\n",
       "    <tr style=\"text-align: right;\">\n",
       "      <th></th>\n",
       "      <th>text</th>\n",
       "      <th>has_vector</th>\n",
       "      <th>vector_norm</th>\n",
       "      <th>is_oov</th>\n",
       "    </tr>\n",
       "  </thead>\n",
       "  <tbody>\n",
       "    <tr>\n",
       "      <th>0</th>\n",
       "      <td>晶片</td>\n",
       "      <td>True</td>\n",
       "      <td>45.349884</td>\n",
       "      <td>False</td>\n",
       "    </tr>\n",
       "    <tr>\n",
       "      <th>1</th>\n",
       "      <td>價格</td>\n",
       "      <td>True</td>\n",
       "      <td>50.236996</td>\n",
       "      <td>False</td>\n",
       "    </tr>\n",
       "    <tr>\n",
       "      <th>2</th>\n",
       "      <td>下跌</td>\n",
       "      <td>True</td>\n",
       "      <td>46.294228</td>\n",
       "      <td>False</td>\n",
       "    </tr>\n",
       "    <tr>\n",
       "      <th>3</th>\n",
       "      <td>了</td>\n",
       "      <td>True</td>\n",
       "      <td>45.496578</td>\n",
       "      <td>False</td>\n",
       "    </tr>\n",
       "    <tr>\n",
       "      <th>4</th>\n",
       "      <td>8成</td>\n",
       "      <td>True</td>\n",
       "      <td>24.779940</td>\n",
       "      <td>False</td>\n",
       "    </tr>\n",
       "    <tr>\n",
       "      <th>5</th>\n",
       "      <td>，</td>\n",
       "      <td>True</td>\n",
       "      <td>43.453770</td>\n",
       "      <td>False</td>\n",
       "    </tr>\n",
       "    <tr>\n",
       "      <th>6</th>\n",
       "      <td>客戶</td>\n",
       "      <td>True</td>\n",
       "      <td>41.428810</td>\n",
       "      <td>False</td>\n",
       "    </tr>\n",
       "    <tr>\n",
       "      <th>7</th>\n",
       "      <td>更</td>\n",
       "      <td>True</td>\n",
       "      <td>48.387047</td>\n",
       "      <td>False</td>\n",
       "    </tr>\n",
       "    <tr>\n",
       "      <th>8</th>\n",
       "      <td>是</td>\n",
       "      <td>True</td>\n",
       "      <td>43.579788</td>\n",
       "      <td>False</td>\n",
       "    </tr>\n",
       "    <tr>\n",
       "      <th>9</th>\n",
       "      <td>出現</td>\n",
       "      <td>True</td>\n",
       "      <td>44.916599</td>\n",
       "      <td>False</td>\n",
       "    </tr>\n",
       "    <tr>\n",
       "      <th>10</th>\n",
       "      <td>砍單</td>\n",
       "      <td>False</td>\n",
       "      <td>0.000000</td>\n",
       "      <td>True</td>\n",
       "    </tr>\n",
       "    <tr>\n",
       "      <th>11</th>\n",
       "      <td>狀況</td>\n",
       "      <td>True</td>\n",
       "      <td>41.024281</td>\n",
       "      <td>False</td>\n",
       "    </tr>\n",
       "  </tbody>\n",
       "</table>\n",
       "</div>"
      ],
      "text/plain": [
       "   text  has_vector  vector_norm  is_oov\n",
       "0    晶片        True    45.349884   False\n",
       "1    價格        True    50.236996   False\n",
       "2    下跌        True    46.294228   False\n",
       "3     了        True    45.496578   False\n",
       "4    8成        True    24.779940   False\n",
       "5     ，        True    43.453770   False\n",
       "6    客戶        True    41.428810   False\n",
       "7     更        True    48.387047   False\n",
       "8     是        True    43.579788   False\n",
       "9    出現        True    44.916599   False\n",
       "10   砍單       False     0.000000    True\n",
       "11   狀況        True    41.024281   False"
      ]
     },
     "execution_count": 4,
     "metadata": {},
     "output_type": "execute_result"
    }
   ],
   "source": [
    "nlp = spacy.load(\"zh_core_web_md\")\n",
    "tokens = nlp(\"晶片價格下跌了8成，客戶更是出現砍單狀況\")\n",
    "\n",
    "columns=['詞', '詞類', '詞性標註', '單詞依存關係', '是否為純字母組成', '是否為停用詞']\n",
    "dim = list(map(lambda x: [x.text, x.pos_, x.tag_, x.dep_, x.is_alpha, x.is_stop], tokens))\n",
    "\n",
    "df = pd.DataFrame(dim, columns=columns)\n",
    "df\n"
   ]
  },
  {
   "cell_type": "code",
   "execution_count": 5,
   "id": "b0750e05",
   "metadata": {
    "scrolled": true
   },
   "outputs": [
    {
     "name": "stdout",
     "output_type": "stream",
     "text": [
      "(300,)\n",
      "[-1.2921    2.5113   -0.15155   0.63513  -0.55534  -0.85392   1.3164\n",
      "  3.7843    0.68299   0.47693  -1.3812   -0.21847  -2.9632   -3.6733\n",
      "  5.7638    4.5989    2.965    -0.12698   2.875    -1.8082   -1.5112\n",
      "  0.47739   0.52847  -2.0248   -0.88346   2.4219    4.3621    1.6769\n",
      " -2.3341   -1.5619   -2.9916   -0.46782  -4.6956    0.72683  -2.7661\n",
      " -0.35365  -6.4343    3.3101   -3.4669    4.1988    0.83389  -0.033815\n",
      " -3.5231    0.38716   0.070411  3.3565    1.6687    0.82265  -1.7114\n",
      " -1.3227    5.1497    2.4423   -2.5729   -2.2202    0.51333  -3.0065\n",
      " -3.6398    1.3682   -1.8198   -2.3333    6.3946   -1.4268    3.5479\n",
      " -3.9807   -3.1319   -0.65345  -0.20794  -3.285    -2.7348    3.8214\n",
      " -2.1997   -4.9591    0.21862   0.33208  -3.1624    1.2094   -2.9989\n",
      "  4.7115   -3.9648   -4.3087    3.0002    2.9753    4.6177   -4.7925\n",
      "  3.4675    2.8076    1.0214   -2.4095    2.4655    0.2086   -0.60983\n",
      "  1.2253    1.626    -1.0443   -0.10286  -5.1444   -0.74076  -0.65625\n",
      " -0.56482   0.29187   2.5775   -3.3353   -1.989    -2.3994   -0.93808\n",
      "  0.86793   0.60074  -1.4523   -0.93355  -0.1134   -2.3076   -1.3223\n",
      "  2.1507    2.1385   -2.2272    1.7572    3.8404    2.3448   -1.5585\n",
      " -3.7703   -2.1669   -3.6207    2.4371    2.009    -3.211     2.6982\n",
      " -0.72842   0.48478  -0.87463  -2.3459   -1.0662    1.6373    3.2067\n",
      " -1.1564   -2.82     -5.3503    3.3787   -1.7064   -0.21659  -0.97001\n",
      "  3.1842    2.837     0.48215   0.76931   4.7056   -2.1175   -2.056\n",
      " -2.2363    5.6117    2.6626    3.2843    4.236     3.1545    3.702\n",
      " -3.7659    3.871     1.4243   -1.7334   -0.47318   1.7945    1.5854\n",
      " -2.2104    0.46279  -0.12094   1.9497    3.5765    1.906    -2.3521\n",
      "  2.5659   -0.35625  -2.9379    2.5474   -2.0979    0.53661   0.18012\n",
      " -1.7018   -2.5815   -2.1239    3.1924    0.32003  -0.91217  -0.26814\n",
      " -0.69106   2.2733   -3.0529   -1.8254   -0.05955  -2.3318   -2.2367\n",
      "  1.7033   -3.0613    1.0209   -2.4614   -2.9409   -7.3285   -0.29621\n",
      " -5.5992    0.2361    1.9423   -1.2478    0.098101 -0.13778  -1.2418\n",
      "  2.3867    0.77148  -0.44459   0.12373  -6.9252    1.3998   -0.84703\n",
      "  0.78593   0.12092  -0.85669  -1.8105    0.69454   4.5893   -1.0174\n",
      " -0.67014  -1.3897    3.0232   -2.6277   -1.9771    4.7388   -0.74959\n",
      " -0.32602  -3.8762    0.60257   0.28666  -2.3233    2.134    -5.1573\n",
      "  3.9144    2.8627    0.91118   0.75905  -1.2454   -6.3348   -1.7509\n",
      "  3.6122   -1.9573   -1.9229   -1.8218    0.71173  -0.37947   1.6683\n",
      " -2.0599   -0.57319   0.83009  -6.5577   -3.7961   -4.5447   -0.75662\n",
      "  0.24156   0.14953  -2.8267    2.4304    1.2955    0.50565   1.5104\n",
      "  4.4235   -2.3382    3.7931   -4.3856    1.8174    0.86576   1.6025\n",
      " -1.5025    4.0469   -0.47213   0.45617   1.3616    3.8935    4.0128\n",
      " -2.5236    0.22218   0.70291  -1.8016   -2.3468    1.9284   -2.5833\n",
      " -2.0334   -2.206     0.92329  -1.2512    1.9868   -0.06109  -2.6176\n",
      "  3.8161   -1.5176   -4.0972    0.66248  -2.8236   -5.5725   -0.64814\n",
      "  0.91666   1.8007    6.4731    0.61307  -2.8119    1.3542  ]\n"
     ]
    }
   ],
   "source": [
    "for token in tokens:\n",
    "    if token.text == '晶片':\n",
    "        print(token.vector.shape)\n",
    "        print(token.vector)  "
   ]
  },
  {
   "cell_type": "code",
   "execution_count": 19,
   "id": "ca86f654",
   "metadata": {},
   "outputs": [
    {
     "data": {
      "text/html": [
       "<div>\n",
       "<style scoped>\n",
       "    .dataframe tbody tr th:only-of-type {\n",
       "        vertical-align: middle;\n",
       "    }\n",
       "\n",
       "    .dataframe tbody tr th {\n",
       "        vertical-align: top;\n",
       "    }\n",
       "\n",
       "    .dataframe thead th {\n",
       "        text-align: right;\n",
       "    }\n",
       "</style>\n",
       "<table border=\"1\" class=\"dataframe\">\n",
       "  <thead>\n",
       "    <tr style=\"text-align: right;\">\n",
       "      <th></th>\n",
       "      <th>text</th>\n",
       "      <th>pos_</th>\n",
       "      <th>tag_</th>\n",
       "      <th>has_vector</th>\n",
       "      <th>vector_norm</th>\n",
       "      <th>is_oov</th>\n",
       "    </tr>\n",
       "  </thead>\n",
       "  <tbody>\n",
       "    <tr>\n",
       "      <th>0</th>\n",
       "      <td>明天</td>\n",
       "      <td>NOUN</td>\n",
       "      <td>NT</td>\n",
       "      <td>True</td>\n",
       "      <td>36.557922</td>\n",
       "      <td>False</td>\n",
       "    </tr>\n",
       "    <tr>\n",
       "      <th>1</th>\n",
       "      <td>新竹</td>\n",
       "      <td>PROPN</td>\n",
       "      <td>NR</td>\n",
       "      <td>True</td>\n",
       "      <td>35.873867</td>\n",
       "      <td>False</td>\n",
       "    </tr>\n",
       "    <tr>\n",
       "      <th>2</th>\n",
       "      <td>訂房</td>\n",
       "      <td>VERB</td>\n",
       "      <td>VV</td>\n",
       "      <td>True</td>\n",
       "      <td>48.662056</td>\n",
       "      <td>False</td>\n",
       "    </tr>\n",
       "    <tr>\n",
       "      <th>3</th>\n",
       "      <td>2</td>\n",
       "      <td>NUM</td>\n",
       "      <td>CD</td>\n",
       "      <td>True</td>\n",
       "      <td>44.021709</td>\n",
       "      <td>False</td>\n",
       "    </tr>\n",
       "    <tr>\n",
       "      <th>4</th>\n",
       "      <td>人</td>\n",
       "      <td>NOUN</td>\n",
       "      <td>NN</td>\n",
       "      <td>True</td>\n",
       "      <td>45.331188</td>\n",
       "      <td>False</td>\n",
       "    </tr>\n",
       "    <tr>\n",
       "      <th>5</th>\n",
       "      <td>房</td>\n",
       "      <td>NOUN</td>\n",
       "      <td>NN</td>\n",
       "      <td>True</td>\n",
       "      <td>47.375011</td>\n",
       "      <td>False</td>\n",
       "    </tr>\n",
       "    <tr>\n",
       "      <th>6</th>\n",
       "      <td>一</td>\n",
       "      <td>NUM</td>\n",
       "      <td>CD</td>\n",
       "      <td>True</td>\n",
       "      <td>45.403271</td>\n",
       "      <td>False</td>\n",
       "    </tr>\n",
       "    <tr>\n",
       "      <th>7</th>\n",
       "      <td>間</td>\n",
       "      <td>NUM</td>\n",
       "      <td>M</td>\n",
       "      <td>True</td>\n",
       "      <td>54.002636</td>\n",
       "      <td>False</td>\n",
       "    </tr>\n",
       "  </tbody>\n",
       "</table>\n",
       "</div>"
      ],
      "text/plain": [
       "  text   pos_ tag_  has_vector  vector_norm  is_oov\n",
       "0   明天   NOUN   NT        True    36.557922   False\n",
       "1   新竹  PROPN   NR        True    35.873867   False\n",
       "2   訂房   VERB   VV        True    48.662056   False\n",
       "3    2    NUM   CD        True    44.021709   False\n",
       "4    人   NOUN   NN        True    45.331188   False\n",
       "5    房   NOUN   NN        True    47.375011   False\n",
       "6    一    NUM   CD        True    45.403271   False\n",
       "7    間    NUM    M        True    54.002636   False"
      ]
     },
     "execution_count": 19,
     "metadata": {},
     "output_type": "execute_result"
    }
   ],
   "source": [
    "nlp = spacy.load(\"zh_core_web_md\")\n",
    "tokens = nlp(\"明天新竹訂房2人房一間\")\n",
    "\n",
    "columns=['詞', '詞類', '詞性標註', '單詞依存關係', '是否為純字母組成', '是否為停用詞']\n",
    "dim = list(map(lambda x: [x.text, x.pos_, x.tag_, x.dep_, x.is_alpha, x.is_stop], tokens))\n",
    "\n",
    "df = pd.DataFrame(dim, columns=columns)\n",
    "df"
   ]
  },
  {
   "cell_type": "code",
   "execution_count": 20,
   "id": "c7819048",
   "metadata": {},
   "outputs": [
    {
     "name": "stdout",
     "output_type": "stream",
     "text": [
      "2396668244067988274 reservation 0 1 明天\n",
      "2396668244067988274 reservation 1 2 新竹\n",
      "2396668244067988274 reservation 2 3 訂房\n",
      "2396668244067988274 reservation 3 6 2人房\n",
      "2396668244067988274 reservation 6 8 一間\n"
     ]
    }
   ],
   "source": [
    "from spacy.matcher import Matcher\n",
    "\n",
    "matcher = Matcher(nlp.vocab)\n",
    "patterns = [\n",
    "    [{\"POS\": \"NUM\"}, {\"POS\": \"NOUN\"}, {\"POS\": \"NOUN\"}],\n",
    "    [{\"POS\": \"PROPN\"}],\n",
    "    [{\"TAG\": \"NT\"}],\n",
    "    [{\"POS\": \"VERB\"}],\n",
    "    [{\"POS\": \"NUM\"}, {\"POS\": \"NUM\"}],\n",
    "]\n",
    "matcher.add(\"reservation\", patterns)\n",
    "doc = nlp(\"明天新竹訂房2人房一間\")\n",
    "matches = matcher(doc)\n",
    "for match_id, start, end in matches:\n",
    "    string_id = nlp.vocab.strings[match_id]  # Get string representation\n",
    "    span = doc[start:end]  # The matched span\n",
    "    print(match_id, string_id, start, end, span.text)"
   ]
  },
  {
   "cell_type": "markdown",
   "id": "f4abdd45",
   "metadata": {},
   "source": [
    "# 相似度(similarity)"
   ]
  },
  {
   "cell_type": "code",
   "execution_count": 15,
   "id": "f180a248",
   "metadata": {},
   "outputs": [
    {
     "name": "stdout",
     "output_type": "stream",
     "text": [
      "I like salty fries and hamburgers. <-> Fast food tastes very good. 0.8015960629076846\n"
     ]
    }
   ],
   "source": [
    "nlp = spacy.load(\"en_core_web_md\")\n",
    "\n",
    "doc1 = nlp(\"I like salty fries and hamburgers.\")\n",
    "doc2 = nlp(\"Fast food tastes very good.\")\n",
    "\n",
    "# Similarity of two documents\n",
    "print(doc1, \"<->\", doc2, doc1.similarity(doc2))"
   ]
  },
  {
   "cell_type": "code",
   "execution_count": 16,
   "id": "c05264d5",
   "metadata": {},
   "outputs": [
    {
     "name": "stdout",
     "output_type": "stream",
     "text": [
      "salty fries <-> hamburgers 0.5733411312103271\n"
     ]
    }
   ],
   "source": [
    "# Similarity of tokens and spans\n",
    "french_fries = doc1[2:4]\n",
    "burgers = doc1[5]\n",
    "print(french_fries, \"<->\", burgers, french_fries.similarity(burgers))"
   ]
  },
  {
   "cell_type": "markdown",
   "id": "e57bdbd9",
   "metadata": {},
   "source": [
    "# 中文"
   ]
  },
  {
   "cell_type": "code",
   "execution_count": 20,
   "id": "687275a0",
   "metadata": {},
   "outputs": [
    {
     "name": "stdout",
     "output_type": "stream",
     "text": [
      "0.5709651582857873    其實狗搖尾巴有很多種方式 高興搖尾巴 生氣也搖尾巴\n",
      "0.8644547868227618    如果這個洞的話經過仔細的設計的話 應該不至於造成太大問題\n",
      "0.5891161194339213    所以只要依照政府規定 在採收前十天不要噴灑農藥\n",
      "0.7696423033378502    靜電才是加油站爆炸的元凶 手機不過是代罪羔羊\n",
      "0.6782006281746354    我們可以用表面張力及附著力的原理 來測試看看\n",
      "0.7698361884549405    不過蝦子死亡後 身體會釋放出有毒素的體液 可能造成水的變質\n"
     ]
    }
   ],
   "source": [
    "nlp = spacy.load(\"zh_core_web_md\")\n",
    "dialogue = \"如果飛機在飛行當中打一個小洞的話 會不會影響飛行的安全呢\"\n",
    "answers = [\n",
    "  \"其實狗搖尾巴有很多種方式 高興搖尾巴 生氣也搖尾巴\",  \n",
    "  \"如果這個洞的話經過仔細的設計的話 應該不至於造成太大問題\",\n",
    "  \"所以只要依照政府規定 在採收前十天不要噴灑農藥\", \n",
    "  \"靜電才是加油站爆炸的元凶 手機不過是代罪羔羊\",\n",
    "  \"我們可以用表面張力及附著力的原理 來測試看看\",\n",
    "  \"不過蝦子死亡後 身體會釋放出有毒素的體液 可能造成水的變質\"]\n",
    "\n",
    "doc1 = nlp(dialogue)\n",
    "for text in answers:\n",
    "    doc2 = nlp(text)\n",
    "    # Similarity of two documents\n",
    "    print(doc1.similarity(doc2), '  ', text)"
   ]
  },
  {
   "cell_type": "code",
   "execution_count": null,
   "id": "29a03222",
   "metadata": {},
   "outputs": [],
   "source": []
  }
 ],
 "metadata": {
  "kernelspec": {
   "display_name": ".venv",
   "language": "python",
   "name": "python3"
  },
  "language_info": {
   "codemirror_mode": {
    "name": "ipython",
    "version": 3
   },
   "file_extension": ".py",
   "mimetype": "text/x-python",
   "name": "python",
   "nbconvert_exporter": "python",
   "pygments_lexer": "ipython3",
   "version": "3.12.3"
  }
 },
 "nbformat": 4,
 "nbformat_minor": 5
}
