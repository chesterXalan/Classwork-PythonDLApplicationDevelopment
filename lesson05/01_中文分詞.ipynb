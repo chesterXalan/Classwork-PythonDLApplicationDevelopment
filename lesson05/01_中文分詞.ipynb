{
 "cells": [
  {
   "cell_type": "code",
   "execution_count": 1,
   "metadata": {},
   "outputs": [
    {
     "name": "stdout",
     "output_type": "stream",
     "text": [
      "Collecting jieba\n",
      "  Downloading jieba-0.42.1.tar.gz (19.2 MB)\n",
      "     ---------------------------------------- 0.0/19.2 MB ? eta -:--:--\n",
      "     ---------------------------------------- 0.0/19.2 MB ? eta -:--:--\n",
      "     --------------------------------------- 0.0/19.2 MB 487.6 kB/s eta 0:00:40\n",
      "     ---------------------------------------- 0.2/19.2 MB 1.4 MB/s eta 0:00:14\n",
      "      --------------------------------------- 0.5/19.2 MB 3.0 MB/s eta 0:00:07\n",
      "     -- ------------------------------------- 1.2/19.2 MB 5.6 MB/s eta 0:00:04\n",
      "     ------ --------------------------------- 3.1/19.2 MB 12.5 MB/s eta 0:00:02\n",
      "     ------------- -------------------------- 6.7/19.2 MB 22.5 MB/s eta 0:00:01\n",
      "     ----------------------- --------------- 11.7/19.2 MB 81.8 MB/s eta 0:00:01\n",
      "     --------------------------- ----------- 13.6/19.2 MB 93.0 MB/s eta 0:00:01\n",
      "     -------------------------------- ------ 16.3/19.2 MB 72.6 MB/s eta 0:00:01\n",
      "     ----------------------------------- --- 17.7/19.2 MB 59.5 MB/s eta 0:00:01\n",
      "     --------------------------------------  18.9/19.2 MB 46.9 MB/s eta 0:00:01\n",
      "     --------------------------------------  19.2/19.2 MB 43.7 MB/s eta 0:00:01\n",
      "     --------------------------------------- 19.2/19.2 MB 38.6 MB/s eta 0:00:00\n",
      "  Preparing metadata (setup.py): started\n",
      "  Preparing metadata (setup.py): finished with status 'done'\n",
      "Building wheels for collected packages: jieba\n",
      "  Building wheel for jieba (setup.py): started\n",
      "  Building wheel for jieba (setup.py): finished with status 'done'\n",
      "  Created wheel for jieba: filename=jieba-0.42.1-py3-none-any.whl size=19314474 sha256=4c7bb79db95d0cc738f120fa5191e096e705ed9e0b0667ff5fdce7974def99e9\n",
      "  Stored in directory: c:\\users\\elsa\\appdata\\local\\pip\\cache\\wheels\\08\\a1\\a3\\5c8ac52cc2f5782ffffc34c95c57c8e5ecb3063dc69541ee7c\n",
      "Successfully built jieba\n",
      "Installing collected packages: jieba\n",
      "Successfully installed jieba-0.42.1\n"
     ]
    }
   ],
   "source": [
    "!pip install jieba"
   ]
  },
  {
   "cell_type": "code",
   "execution_count": 1,
   "metadata": {},
   "outputs": [
    {
     "data": {
      "text/plain": [
       "'0.42.1'"
      ]
     },
     "execution_count": 1,
     "metadata": {},
     "output_type": "execute_result"
    }
   ],
   "source": [
    "import jieba\n",
    "\n",
    "jieba.__version__"
   ]
  },
  {
   "cell_type": "code",
   "execution_count": 4,
   "metadata": {},
   "outputs": [
    {
     "name": "stdout",
     "output_type": "stream",
     "text": [
      "Collecting paddlepaddle\n",
      "  Obtaining dependency information for paddlepaddle from https://files.pythonhosted.org/packages/57/b0/ffe1de38187152d9950bb4d27151e94595484071918d41bdaabbdbd8e69f/paddlepaddle-2.5.2-cp311-cp311-macosx_10_9_x86_64.whl.metadata\n",
      "  Using cached paddlepaddle-2.5.2-cp311-cp311-macosx_10_9_x86_64.whl.metadata (8.5 kB)\n",
      "Collecting httpx (from paddlepaddle)\n",
      "  Obtaining dependency information for httpx from https://files.pythonhosted.org/packages/a2/65/6940eeb21dcb2953778a6895281c179efd9100463ff08cb6232bb6480da7/httpx-0.25.2-py3-none-any.whl.metadata\n",
      "  Using cached httpx-0.25.2-py3-none-any.whl.metadata (6.9 kB)\n",
      "Requirement already satisfied: numpy>=1.13 in /Users/elsawang/anaconda3/lib/python3.11/site-packages (from paddlepaddle) (1.24.3)\n",
      "Requirement already satisfied: Pillow in /Users/elsawang/anaconda3/lib/python3.11/site-packages (from paddlepaddle) (9.4.0)\n",
      "Requirement already satisfied: decorator in /Users/elsawang/anaconda3/lib/python3.11/site-packages (from paddlepaddle) (5.1.1)\n",
      "Collecting astor (from paddlepaddle)\n",
      "  Using cached astor-0.8.1-py2.py3-none-any.whl (27 kB)\n",
      "Collecting opt-einsum==3.3.0 (from paddlepaddle)\n",
      "  Using cached opt_einsum-3.3.0-py3-none-any.whl (65 kB)\n",
      "Collecting protobuf>=3.20.2 (from paddlepaddle)\n",
      "  Obtaining dependency information for protobuf>=3.20.2 from https://files.pythonhosted.org/packages/e6/db/7b2edc72807d45d72f9db42f3eb86ddaf37f9e55d923159b1dbfc9d835bc/protobuf-4.25.1-cp37-abi3-macosx_10_9_universal2.whl.metadata\n",
      "  Using cached protobuf-4.25.1-cp37-abi3-macosx_10_9_universal2.whl.metadata (541 bytes)\n",
      "Requirement already satisfied: anyio in /Users/elsawang/anaconda3/lib/python3.11/site-packages (from httpx->paddlepaddle) (3.5.0)\n",
      "Requirement already satisfied: certifi in /Users/elsawang/anaconda3/lib/python3.11/site-packages (from httpx->paddlepaddle) (2023.7.22)\n",
      "Collecting httpcore==1.* (from httpx->paddlepaddle)\n",
      "  Obtaining dependency information for httpcore==1.* from https://files.pythonhosted.org/packages/56/ba/78b0a99c4da0ff8b0f59defa2f13ca4668189b134bd9840b6202a93d9a0f/httpcore-1.0.2-py3-none-any.whl.metadata\n",
      "  Using cached httpcore-1.0.2-py3-none-any.whl.metadata (20 kB)\n",
      "Requirement already satisfied: idna in /Users/elsawang/anaconda3/lib/python3.11/site-packages (from httpx->paddlepaddle) (3.4)\n",
      "Requirement already satisfied: sniffio in /Users/elsawang/anaconda3/lib/python3.11/site-packages (from httpx->paddlepaddle) (1.2.0)\n",
      "Collecting h11<0.15,>=0.13 (from httpcore==1.*->httpx->paddlepaddle)\n",
      "  Using cached h11-0.14.0-py3-none-any.whl (58 kB)\n",
      "Using cached paddlepaddle-2.5.2-cp311-cp311-macosx_10_9_x86_64.whl (62.0 MB)\n",
      "Using cached protobuf-4.25.1-cp37-abi3-macosx_10_9_universal2.whl (394 kB)\n",
      "Using cached httpx-0.25.2-py3-none-any.whl (74 kB)\n",
      "Using cached httpcore-1.0.2-py3-none-any.whl (76 kB)\n",
      "Installing collected packages: protobuf, opt-einsum, h11, astor, httpcore, httpx, paddlepaddle\n",
      "Successfully installed astor-0.8.1 h11-0.14.0 httpcore-1.0.2 httpx-0.25.2 opt-einsum-3.3.0 paddlepaddle-2.5.2 protobuf-4.25.1\n"
     ]
    }
   ],
   "source": [
    "# 可不用安裝\n",
    "#!pip install paddlepaddle"
   ]
  },
  {
   "cell_type": "code",
   "execution_count": null,
   "metadata": {},
   "outputs": [],
   "source": [
    "# 啟用paddle模式(不用執行,預設即可使用)\n",
    "# jieba.enable_paddle()"
   ]
  },
  {
   "cell_type": "code",
   "execution_count": 2,
   "metadata": {},
   "outputs": [
    {
     "name": "stderr",
     "output_type": "stream",
     "text": [
      "Building prefix dict from the default dictionary ...\n",
      "Dumping model to file cache /tmp/jieba.cache\n",
      "Loading model cost 0.577 seconds.\n",
      "Prefix dict has been built successfully.\n"
     ]
    },
    {
     "name": "stdout",
     "output_type": "stream",
     "text": [
      "Full Mode: 今天/ 天天/ 氣/ 不/ 錯/ ,/ 清清/ 涼/ 涼/ 的/ 適/ 合/ 吃/ 火/ 鍋/ 和/ 吃/ ice\n",
      "Default Mode: 今天/ 天氣/ 不錯/ ,/ 清清/ 涼涼/ 的/ 適合/ 吃/ 火鍋/ 和/ 吃/ ice\n",
      "Paddele mode: 今天/ 天氣/ 不錯/ ,/ 清清/ 涼涼/ 的/ 適合/ 吃/ 火鍋/ 和/ 吃/ ice\n",
      "Search mode: 今天/ 天氣/ 不錯/ ,/ 清清/ 涼涼/ 的/ 適合/ 吃/ 火鍋/ 和/ 吃/ ice\n"
     ]
    }
   ],
   "source": [
    "# strs = \"今天天氣不錯,我來到台北的台灣大學參觀\"\n",
    "strs = \"今天天氣不錯,清清涼涼的適合吃火鍋和吃ice\"\n",
    "\n",
    "seg_list = jieba.cut(strs, cut_all=True)\n",
    "print(\"Full Mode: \" + \"/ \".join(seg_list))  # 全模式(細切)\n",
    "\n",
    "seg_list = jieba.cut(strs, cut_all=False)\n",
    "print(\"Default Mode: \" + \"/ \".join(seg_list))  # 精確模式\n",
    "\n",
    "seg_list = jieba.cut(strs, use_paddle=True)\n",
    "print(\"Paddele mode: \" + \"/ \".join(seg_list))  # paddle模式\n",
    "\n",
    "seg_list = jieba.cut_for_search(strs)\n",
    "print(\"Search mode: \" + \"/ \".join(seg_list))  # 搜索引擎模式\n"
   ]
  },
  {
   "cell_type": "code",
   "execution_count": 3,
   "metadata": {},
   "outputs": [
    {
     "name": "stdout",
     "output_type": "stream",
     "text": [
      "<generator object Tokenizer.cut at 0x7fd6e80322a0>\n",
      "['今天', '天氣', '不錯', ',', '清清', '涼涼', '的', '適合', '吃', '火鍋', '和', '吃', 'ice']\n"
     ]
    }
   ],
   "source": [
    "seg_list = jieba.cut(strs, cut_all=False)  # 精確模式\n",
    "# seg_list只要取用一次就清空，最好另存\n",
    "# print(\"Full Mode: \" + \"/ \".join(seg_list))  # 全模式\n",
    "print(seg_list)\n",
    "a = list(seg_list)\n",
    "print(a)"
   ]
  },
  {
   "cell_type": "code",
   "execution_count": 5,
   "metadata": {},
   "outputs": [
    {
     "name": "stdout",
     "output_type": "stream",
     "text": [
      "啟用停用詞過濾後：\n",
      " 今天/天氣/不錯/吃/火鍋/和/吃/ice\n"
     ]
    }
   ],
   "source": [
    "# 去掉停用詞 (須排除)\n",
    "stopwords = [\"清清\", \"涼涼\", \"的\", \"適合\", \",\"]\n",
    "word_list = []\n",
    "for seg in a:\n",
    "    if seg not in stopwords:\n",
    "        word_list.append(seg)\n",
    "\n",
    "print(\"啟用停用詞過濾後：\\n\", \"/\".join(word_list))"
   ]
  },
  {
   "cell_type": "code",
   "execution_count": 7,
   "metadata": {},
   "outputs": [
    {
     "name": "stdout",
     "output_type": "stream",
     "text": [
      "['今天', '天氣不錯', ',', '清清涼涼', '的', '適合', '吃火鍋', '和', '吃', 'ice']\n"
     ]
    }
   ],
   "source": [
    "# Jieba 自定義詞典\n",
    "jieba.load_userdict(\"./myText.txt\")\n",
    "\n",
    "seg_list = jieba.lcut(strs)  # lcut():斷詞後直接放到list\n",
    "print(seg_list)"
   ]
  },
  {
   "cell_type": "code",
   "execution_count": 8,
   "metadata": {},
   "outputs": [
    {
     "name": "stdout",
     "output_type": "stream",
     "text": [
      "今天, t\n",
      "天氣不錯, x\n",
      ",, x\n",
      "清清涼涼, x\n",
      "的, uj\n",
      "適合, v\n",
      "吃火鍋, x\n",
      "和, c\n",
      "吃, v\n",
      "ice, eng\n"
     ]
    }
   ],
   "source": [
    "# 詞性標註\n",
    "import jieba.posseg as pseg\n",
    "\n",
    "words = pseg.cut(strs)\n",
    "for word, flag in words:\n",
    "    # 格式化模版並傳入參數\n",
    "    print(\"%s, %s\" % (word, flag))"
   ]
  },
  {
   "cell_type": "code",
   "execution_count": null,
   "metadata": {},
   "outputs": [],
   "source": [
    "\n"
   ]
  }
 ],
 "metadata": {
  "kernelspec": {
   "display_name": ".venv",
   "language": "python",
   "name": "python3"
  },
  "language_info": {
   "codemirror_mode": {
    "name": "ipython",
    "version": 3
   },
   "file_extension": ".py",
   "mimetype": "text/x-python",
   "name": "python",
   "nbconvert_exporter": "python",
   "pygments_lexer": "ipython3",
   "version": "3.12.3"
  }
 },
 "nbformat": 4,
 "nbformat_minor": 2
}
